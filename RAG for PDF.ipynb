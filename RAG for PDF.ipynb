{
 "cells": [
  {
   "cell_type": "markdown",
   "id": "98f17ac6",
   "metadata": {},
   "source": [
    "# 构建RAG\n",
    "* step1.连接一些列PDF文档\n",
    "* step2.从PDF中格式化出Text,(eg.split into chunks of sentence)，用于Embedding\n",
    "* step3.Embed所有的text chunks，以存入矢量数据库\n",
    "* step4.构建retrieval，基于query使用向量搜索 relevant chunks of text\n",
    "* -------------Document processing and embedding model-----------\n",
    "* step5.基于检索到的text，生成Prompt\n",
    "* step6.传入LLM，产生基于query的关于PDF中text知识的LLM回答\n",
    "* --------------------------RAG System---------------------------"
   ]
  },
  {
   "cell_type": "code",
   "execution_count": 1,
   "id": "b8e3432c",
   "metadata": {},
   "outputs": [
    {
     "name": "stdout",
     "output_type": "stream",
     "text": [
      "[WARNING]: File human-nutrition-text.pdf already exist\n"
     ]
    }
   ],
   "source": [
    "\"\"\"\n",
    "document processing\n",
    "\"\"\"\n",
    "# 导入PDF Document\n",
    "import os\n",
    "import requests\n",
    "\n",
    "pdf_path = \"human-nutrition-text.pdf\"\n",
    "\n",
    "if not os.path.exists(pdf_path):\n",
    "    print(f\"[WARNING]: File {pdf_path} desn't exist, please input url to download...\")\n",
    "    # pdf's url to download\n",
    "    url = input(\"url: \")\n",
    "    \n",
    "    # 将下载的pdf保存到本地  # [waiting]用os优化目录结构\n",
    "    filename = pdf_path\n",
    "    \n",
    "    # 发送GET请求到URL\n",
    "    response = requests.get(url=url)\n",
    "    if response.status_code == 200:\n",
    "        with open(filename, \"wb\") as file:\n",
    "            file.write(response.content)\n",
    "        print(f\"[WARNING]: File {url} has been download ，saved as {filename}\")\n",
    "    else:\n",
    "        print(f\"[WARNING]: Failed to download file {url} with status code: {response.status_code}\")\n",
    "    \n",
    "else:\n",
    "    print(f\"[WARNING]: File {pdf_path} already exist\")"
   ]
  },
  {
   "cell_type": "code",
   "execution_count": 2,
   "id": "859d2b9d",
   "metadata": {},
   "outputs": [
    {
     "name": "stderr",
     "output_type": "stream",
     "text": [
      "E:\\My_Anaconda\\Anaconda\\envs\\LangChain_and_VectorDB\\Lib\\site-packages\\tqdm\\auto.py:21: TqdmWarning: IProgress not found. Please update jupyter and ipywidgets. See https://ipywidgets.readthedocs.io/en/stable/user_install.html\n",
      "  from .autonotebook import tqdm as notebook_tqdm\n",
      "1208it [00:03, 343.10it/s]\n"
     ]
    },
    {
     "data": {
      "text/plain": [
       "[{'page_number': 0,\n",
       "  'page_char_count': 29,\n",
       "  'page_word_count': 4,\n",
       "  'page_sentence_count': 1,\n",
       "  'page_token_count': 7.25,\n",
       "  'text': 'Human Nutrition: 2020 Edition'},\n",
       " {'page_number': 1,\n",
       "  'page_char_count': 0,\n",
       "  'page_word_count': 1,\n",
       "  'page_sentence_count': 1,\n",
       "  'page_token_count': 0.0,\n",
       "  'text': ''}]"
      ]
     },
     "execution_count": 2,
     "metadata": {},
     "output_type": "execute_result"
    }
   ],
   "source": [
    "# 格式化PDF Document\n",
    "import fitz\n",
    "from tqdm.auto import tqdm\n",
    "\n",
    "def text_format(text: str) -> str:\n",
    "    \"\"\"\n",
    "    自定义 text格式化工具\n",
    "    \"\"\"\n",
    "    cleaned_text = text.replace(\"\\n\",\" \").strip()\n",
    "    return cleaned_text\n",
    "\n",
    "def read_pdf(pdf_path: str) -> list[dict]:\n",
    "    \"\"\"\n",
    "    读取PDF Document中的相关信息，主要包含content和meta source\n",
    "    \"\"\"\n",
    "    docs = fitz.open(pdf_path)\n",
    "    pages_and_texts = []\n",
    "    for page_number, page in tqdm(enumerate(docs)):\n",
    "        content = page.get_text()\n",
    "        content = text_format(content)\n",
    "        #添加相关数据\n",
    "        pages_and_texts.append({\n",
    "            \"page_number\": page_number, # 从正文开始对齐页码\n",
    "            \"page_char_count\": len(content),\n",
    "            \"page_word_count\": len(content.split(\" \")),\n",
    "            \"page_sentence_count\": len(content.split(\". \")),\n",
    "            \"page_token_count\": len(content)/4, # 1 token ≈ 4characters in english,\n",
    "            \"text\": content\n",
    "        })\n",
    "    return pages_and_texts\n",
    "\n",
    "pages_and_texts = read_pdf(pdf_path=pdf_path)\n",
    "pages_and_texts[:2]"
   ]
  },
  {
   "cell_type": "code",
   "execution_count": 3,
   "id": "0ac7fd0a",
   "metadata": {},
   "outputs": [
    {
     "data": {
      "text/plain": [
       "[{'page_number': 661,\n",
       "  'page_char_count': 1398,\n",
       "  'page_word_count': 233,\n",
       "  'page_sentence_count': 17,\n",
       "  'page_token_count': 349.5,\n",
       "  'text': 'in calcium absorption. During the first years of menopause,  annual decreases in bone mass range from 3–5 percent. After  age sixty-five, decreases are typically less than 1 percent.7  • Lactose-intolerant people. Groups of people, such as those  who are lactose intolerant, or who adhere to diets that avoid  dairy products, may not have an adequate calcium intake.  • Vegans. Vegans typically absorb reduced amounts of calcium  because their diets favor plant-based foods that contain  oxalates and phytates.8  In addition, because vegans avoid dairy products, their overall  consumption of calcium-rich foods may be less.  If you are lactose intolerant, have a milk allergy, are a vegan, or  you simply do not like dairy products, remember that there are  many plant-based foods that have a good amount of calcium and  there are also some low-lactose and lactose-free dairy products on  the market.  Calcium Supplements: Which One to Buy?  Many people choose to fulfill their daily calcium requirements by  taking calcium supplements. Calcium supplements are sold  7.\\xa0Daniels CE. (2000). Estrogen Therapy for Osteoporosis  Prevention in Postmenopausal Women. National  Institute of Health: Pharmacy. Update March/April  2000.  8.\\xa0Dietary Reference Intakes for Calcium and Vitamin  D.Food and Nutrition Board, Institute of Medicine.  Washington, DC: National Academy Press. 2010.  620  |  Calcium'}]"
      ]
     },
     "execution_count": 3,
     "metadata": {},
     "output_type": "execute_result"
    }
   ],
   "source": [
    "import random\n",
    "random.sample(pages_and_texts, k=1) "
   ]
  },
  {
   "cell_type": "code",
   "execution_count": 4,
   "id": "6547feab",
   "metadata": {},
   "outputs": [
    {
     "data": {
      "text/plain": [
       "spacy.tokens.span.Span"
      ]
     },
     "execution_count": 4,
     "metadata": {},
     "output_type": "execute_result"
    }
   ],
   "source": [
    "from spacy.lang.en import English\n",
    "# load sentencizer pipeline, 智能的sentence划分技巧\n",
    "nlp = English()\n",
    "nlp.add_pipe(\"sentencizer\")\n",
    "\n",
    "doc = nlp(\"This is a sentence. This is another sentence? I like dog\")\n",
    "\n",
    "assert len(list(doc.sents)) == 3,\"长度不匹配\"\n",
    "\n",
    "type(list(doc.sents)[0])\n",
    "\n",
    "# list(doc.sents)[2]"
   ]
  },
  {
   "cell_type": "code",
   "execution_count": 5,
   "id": "4a0b7b91",
   "metadata": {},
   "outputs": [
    {
     "data": {
      "text/html": [
       "<div>\n",
       "<style scoped>\n",
       "    .dataframe tbody tr th:only-of-type {\n",
       "        vertical-align: middle;\n",
       "    }\n",
       "\n",
       "    .dataframe tbody tr th {\n",
       "        vertical-align: top;\n",
       "    }\n",
       "\n",
       "    .dataframe thead th {\n",
       "        text-align: right;\n",
       "    }\n",
       "</style>\n",
       "<table border=\"1\" class=\"dataframe\">\n",
       "  <thead>\n",
       "    <tr style=\"text-align: right;\">\n",
       "      <th></th>\n",
       "      <th>page_number</th>\n",
       "      <th>page_char_count</th>\n",
       "      <th>page_word_count</th>\n",
       "      <th>page_sentence_count</th>\n",
       "      <th>page_token_count</th>\n",
       "      <th>text</th>\n",
       "    </tr>\n",
       "  </thead>\n",
       "  <tbody>\n",
       "    <tr>\n",
       "      <th>0</th>\n",
       "      <td>0</td>\n",
       "      <td>29</td>\n",
       "      <td>4</td>\n",
       "      <td>1</td>\n",
       "      <td>7.25</td>\n",
       "      <td>Human Nutrition: 2020 Edition</td>\n",
       "    </tr>\n",
       "    <tr>\n",
       "      <th>1</th>\n",
       "      <td>1</td>\n",
       "      <td>0</td>\n",
       "      <td>1</td>\n",
       "      <td>1</td>\n",
       "      <td>0.00</td>\n",
       "      <td></td>\n",
       "    </tr>\n",
       "    <tr>\n",
       "      <th>2</th>\n",
       "      <td>2</td>\n",
       "      <td>320</td>\n",
       "      <td>54</td>\n",
       "      <td>1</td>\n",
       "      <td>80.00</td>\n",
       "      <td>Human Nutrition: 2020  Edition  UNIVERSITY OF ...</td>\n",
       "    </tr>\n",
       "    <tr>\n",
       "      <th>3</th>\n",
       "      <td>3</td>\n",
       "      <td>212</td>\n",
       "      <td>32</td>\n",
       "      <td>1</td>\n",
       "      <td>53.00</td>\n",
       "      <td>Human Nutrition: 2020 Edition by University of...</td>\n",
       "    </tr>\n",
       "    <tr>\n",
       "      <th>4</th>\n",
       "      <td>4</td>\n",
       "      <td>797</td>\n",
       "      <td>145</td>\n",
       "      <td>2</td>\n",
       "      <td>199.25</td>\n",
       "      <td>Contents  Preface  University of Hawai‘i at Mā...</td>\n",
       "    </tr>\n",
       "  </tbody>\n",
       "</table>\n",
       "</div>"
      ],
      "text/plain": [
       "   page_number  page_char_count  page_word_count  page_sentence_count  \\\n",
       "0            0               29                4                    1   \n",
       "1            1                0                1                    1   \n",
       "2            2              320               54                    1   \n",
       "3            3              212               32                    1   \n",
       "4            4              797              145                    2   \n",
       "\n",
       "   page_token_count                                               text  \n",
       "0              7.25                      Human Nutrition: 2020 Edition  \n",
       "1              0.00                                                     \n",
       "2             80.00  Human Nutrition: 2020  Edition  UNIVERSITY OF ...  \n",
       "3             53.00  Human Nutrition: 2020 Edition by University of...  \n",
       "4            199.25  Contents  Preface  University of Hawai‘i at Mā...  "
      ]
     },
     "execution_count": 5,
     "metadata": {},
     "output_type": "execute_result"
    }
   ],
   "source": [
    "import pandas as pd\n",
    "df = pd.DataFrame(pages_and_texts)\n",
    "df.head(5)"
   ]
  },
  {
   "cell_type": "code",
   "execution_count": 6,
   "id": "c76fac8d",
   "metadata": {},
   "outputs": [
    {
     "data": {
      "text/html": [
       "<div>\n",
       "<style scoped>\n",
       "    .dataframe tbody tr th:only-of-type {\n",
       "        vertical-align: middle;\n",
       "    }\n",
       "\n",
       "    .dataframe tbody tr th {\n",
       "        vertical-align: top;\n",
       "    }\n",
       "\n",
       "    .dataframe thead th {\n",
       "        text-align: right;\n",
       "    }\n",
       "</style>\n",
       "<table border=\"1\" class=\"dataframe\">\n",
       "  <thead>\n",
       "    <tr style=\"text-align: right;\">\n",
       "      <th></th>\n",
       "      <th>page_number</th>\n",
       "      <th>page_char_count</th>\n",
       "      <th>page_word_count</th>\n",
       "      <th>page_sentence_count</th>\n",
       "      <th>page_token_count</th>\n",
       "    </tr>\n",
       "  </thead>\n",
       "  <tbody>\n",
       "    <tr>\n",
       "      <th>count</th>\n",
       "      <td>1208.0</td>\n",
       "      <td>1208.0</td>\n",
       "      <td>1208.0</td>\n",
       "      <td>1208.0</td>\n",
       "      <td>1208.0</td>\n",
       "    </tr>\n",
       "    <tr>\n",
       "      <th>mean</th>\n",
       "      <td>604.0</td>\n",
       "      <td>1149.0</td>\n",
       "      <td>199.0</td>\n",
       "      <td>10.0</td>\n",
       "      <td>287.0</td>\n",
       "    </tr>\n",
       "    <tr>\n",
       "      <th>std</th>\n",
       "      <td>349.0</td>\n",
       "      <td>560.0</td>\n",
       "      <td>96.0</td>\n",
       "      <td>6.0</td>\n",
       "      <td>140.0</td>\n",
       "    </tr>\n",
       "    <tr>\n",
       "      <th>min</th>\n",
       "      <td>0.0</td>\n",
       "      <td>0.0</td>\n",
       "      <td>1.0</td>\n",
       "      <td>1.0</td>\n",
       "      <td>0.0</td>\n",
       "    </tr>\n",
       "    <tr>\n",
       "      <th>25%</th>\n",
       "      <td>302.0</td>\n",
       "      <td>763.0</td>\n",
       "      <td>134.0</td>\n",
       "      <td>4.0</td>\n",
       "      <td>191.0</td>\n",
       "    </tr>\n",
       "    <tr>\n",
       "      <th>50%</th>\n",
       "      <td>604.0</td>\n",
       "      <td>1232.0</td>\n",
       "      <td>215.0</td>\n",
       "      <td>10.0</td>\n",
       "      <td>308.0</td>\n",
       "    </tr>\n",
       "    <tr>\n",
       "      <th>75%</th>\n",
       "      <td>905.0</td>\n",
       "      <td>1605.0</td>\n",
       "      <td>271.0</td>\n",
       "      <td>14.0</td>\n",
       "      <td>401.0</td>\n",
       "    </tr>\n",
       "    <tr>\n",
       "      <th>max</th>\n",
       "      <td>1207.0</td>\n",
       "      <td>2308.0</td>\n",
       "      <td>429.0</td>\n",
       "      <td>32.0</td>\n",
       "      <td>577.0</td>\n",
       "    </tr>\n",
       "  </tbody>\n",
       "</table>\n",
       "</div>"
      ],
      "text/plain": [
       "       page_number  page_char_count  page_word_count  page_sentence_count  \\\n",
       "count       1208.0           1208.0           1208.0               1208.0   \n",
       "mean         604.0           1149.0            199.0                 10.0   \n",
       "std          349.0            560.0             96.0                  6.0   \n",
       "min            0.0              0.0              1.0                  1.0   \n",
       "25%          302.0            763.0            134.0                  4.0   \n",
       "50%          604.0           1232.0            215.0                 10.0   \n",
       "75%          905.0           1605.0            271.0                 14.0   \n",
       "max         1207.0           2308.0            429.0                 32.0   \n",
       "\n",
       "       page_token_count  \n",
       "count            1208.0  \n",
       "mean              287.0  \n",
       "std               140.0  \n",
       "min                 0.0  \n",
       "25%               191.0  \n",
       "50%               308.0  \n",
       "75%               401.0  \n",
       "max               577.0  "
      ]
     },
     "execution_count": 6,
     "metadata": {},
     "output_type": "execute_result"
    }
   ],
   "source": [
    "df.describe().round()  # 根据语料token信息选择适当的embeding模型"
   ]
  },
  {
   "cell_type": "code",
   "execution_count": 7,
   "id": "a64dce56",
   "metadata": {},
   "outputs": [
    {
     "name": "stderr",
     "output_type": "stream",
     "text": [
      "100%|█████████████████████████████████████████████████████████████████████████████| 1208/1208 [00:05<00:00, 239.65it/s]\n"
     ]
    },
    {
     "data": {
      "text/plain": [
       "[{'page_number': 297,\n",
       "  'page_char_count': 906,\n",
       "  'page_word_count': 170,\n",
       "  'page_sentence_count': 6,\n",
       "  'page_token_count': 226.5,\n",
       "  'text': 'The sugar  molecule  deoxyribose  is used to  build the  backbone of  DNA. Image  by rozeta /  CC BY-SA  3.0  Building Macromolecules  Although most absorbed glucose is used to make energy, some  glucose is converted to ribose and deoxyribose, which are essential  building blocks of important macromolecules, such as RNA, DNA,  and ATP. Glucose is additionally utilized to make the molecule  NADPH, which is important for protection against oxidative stress  and is used in many other chemical reactions in the body. If all of the  energy, glycogen-storing capacity, and building needs of the body  are met, excess glucose can be used to make fat. This is why a diet  too high in carbohydrates and calories can add on the fat pounds—a  topic that will be discussed shortly.  Figure 4.11 Chemical Structure of Deoxyribose  Figure 4.12 Double-stranded DNA  256  |  The Functions of Carbohydrates in the Body',\n",
       "  'sentences': ['The sugar  molecule  deoxyribose  is used to  build the  backbone of  DNA.',\n",
       "   'Image  by rozeta /  CC BY-SA  3.0  Building Macromolecules  Although most absorbed glucose is used to make energy, some  glucose is converted to ribose and deoxyribose, which are essential  building blocks of important macromolecules, such as RNA, DNA,  and ATP.',\n",
       "   'Glucose is additionally utilized to make the molecule  NADPH, which is important for protection against oxidative stress  and is used in many other chemical reactions in the body.',\n",
       "   'If all of the  energy, glycogen-storing capacity, and building needs of the body  are met, excess glucose can be used to make fat.',\n",
       "   'This is why a diet  too high in carbohydrates and calories can add on the fat pounds—a  topic that will be discussed shortly.',\n",
       "   ' Figure 4.11 Chemical Structure of Deoxyribose  Figure 4.12 Double-stranded DNA  256  |  The Functions of Carbohydrates in the Body']}]"
      ]
     },
     "execution_count": 7,
     "metadata": {},
     "output_type": "execute_result"
    }
   ],
   "source": [
    "# 将doc中的内容按照sentence进行划分\n",
    "for page in tqdm(pages_and_texts):\n",
    "    page[\"sentences\"] = list(nlp(page[\"text\"]).sents)\n",
    "    # 将sentence转换为str\n",
    "    page[\"sentences\"] = [str(sents) for sents in page[\"sentences\"]]\n",
    "    page[\"page_sentence_count\"] = len(page[\"sentences\"])\n",
    "    \n",
    "random.sample(pages_and_texts, k=1) "
   ]
  },
  {
   "cell_type": "code",
   "execution_count": 8,
   "id": "7154471b",
   "metadata": {},
   "outputs": [
    {
     "name": "stdout",
     "output_type": "stream",
     "text": [
      "{'page_char_count': 323,\n",
      " 'page_number': 33,\n",
      " 'page_sentence_count': 4,\n",
      " 'page_token_count': 80.75,\n",
      " 'page_word_count': 52,\n",
      " 'sentences': ['Gemady Langfelder  Gemady Langfelder is an undergraduate '\n",
      "               'dietetics student at the  University of Hawai‘i at Mānoa.',\n",
      "               'She is an ACSM certified personal  trainer and a novice '\n",
      "               'horticulturist.',\n",
      "               'Her interests are nutritional  epidemiology, infant and '\n",
      "               'pre-/post-natal nutrition, and health  policy.',\n",
      "               ' xxxiv  |  About the Contributors'],\n",
      " 'text': 'Gemady Langfelder  Gemady Langfelder is an undergraduate dietetics '\n",
      "         'student at the  University of Hawai‘i at Mānoa. She is an ACSM '\n",
      "         'certified personal  trainer and a novice horticulturist. Her '\n",
      "         'interests are nutritional  epidemiology, infant and pre-/post-natal '\n",
      "         'nutrition, and health  policy.  xxxiv  |  About the Contributors'}\n"
     ]
    }
   ],
   "source": [
    "from pprint import pprint\n",
    "pprint(pages_and_texts[33])"
   ]
  },
  {
   "cell_type": "code",
   "execution_count": 9,
   "id": "1dcab422",
   "metadata": {},
   "outputs": [
    {
     "data": {
      "text/html": [
       "<div>\n",
       "<style scoped>\n",
       "    .dataframe tbody tr th:only-of-type {\n",
       "        vertical-align: middle;\n",
       "    }\n",
       "\n",
       "    .dataframe tbody tr th {\n",
       "        vertical-align: top;\n",
       "    }\n",
       "\n",
       "    .dataframe thead th {\n",
       "        text-align: right;\n",
       "    }\n",
       "</style>\n",
       "<table border=\"1\" class=\"dataframe\">\n",
       "  <thead>\n",
       "    <tr style=\"text-align: right;\">\n",
       "      <th></th>\n",
       "      <th>page_number</th>\n",
       "      <th>page_char_count</th>\n",
       "      <th>page_word_count</th>\n",
       "      <th>page_sentence_count</th>\n",
       "      <th>page_token_count</th>\n",
       "    </tr>\n",
       "  </thead>\n",
       "  <tbody>\n",
       "    <tr>\n",
       "      <th>count</th>\n",
       "      <td>1208.0</td>\n",
       "      <td>1208.0</td>\n",
       "      <td>1208.0</td>\n",
       "      <td>1208.0</td>\n",
       "      <td>1208.0</td>\n",
       "    </tr>\n",
       "    <tr>\n",
       "      <th>mean</th>\n",
       "      <td>604.0</td>\n",
       "      <td>1149.0</td>\n",
       "      <td>199.0</td>\n",
       "      <td>10.0</td>\n",
       "      <td>287.0</td>\n",
       "    </tr>\n",
       "    <tr>\n",
       "      <th>std</th>\n",
       "      <td>349.0</td>\n",
       "      <td>560.0</td>\n",
       "      <td>96.0</td>\n",
       "      <td>6.0</td>\n",
       "      <td>140.0</td>\n",
       "    </tr>\n",
       "    <tr>\n",
       "      <th>min</th>\n",
       "      <td>0.0</td>\n",
       "      <td>0.0</td>\n",
       "      <td>1.0</td>\n",
       "      <td>0.0</td>\n",
       "      <td>0.0</td>\n",
       "    </tr>\n",
       "    <tr>\n",
       "      <th>25%</th>\n",
       "      <td>302.0</td>\n",
       "      <td>763.0</td>\n",
       "      <td>134.0</td>\n",
       "      <td>5.0</td>\n",
       "      <td>191.0</td>\n",
       "    </tr>\n",
       "    <tr>\n",
       "      <th>50%</th>\n",
       "      <td>604.0</td>\n",
       "      <td>1232.0</td>\n",
       "      <td>215.0</td>\n",
       "      <td>10.0</td>\n",
       "      <td>308.0</td>\n",
       "    </tr>\n",
       "    <tr>\n",
       "      <th>75%</th>\n",
       "      <td>905.0</td>\n",
       "      <td>1605.0</td>\n",
       "      <td>271.0</td>\n",
       "      <td>15.0</td>\n",
       "      <td>401.0</td>\n",
       "    </tr>\n",
       "    <tr>\n",
       "      <th>max</th>\n",
       "      <td>1207.0</td>\n",
       "      <td>2308.0</td>\n",
       "      <td>429.0</td>\n",
       "      <td>28.0</td>\n",
       "      <td>577.0</td>\n",
       "    </tr>\n",
       "  </tbody>\n",
       "</table>\n",
       "</div>"
      ],
      "text/plain": [
       "       page_number  page_char_count  page_word_count  page_sentence_count  \\\n",
       "count       1208.0           1208.0           1208.0               1208.0   \n",
       "mean         604.0           1149.0            199.0                 10.0   \n",
       "std          349.0            560.0             96.0                  6.0   \n",
       "min            0.0              0.0              1.0                  0.0   \n",
       "25%          302.0            763.0            134.0                  5.0   \n",
       "50%          604.0           1232.0            215.0                 10.0   \n",
       "75%          905.0           1605.0            271.0                 15.0   \n",
       "max         1207.0           2308.0            429.0                 28.0   \n",
       "\n",
       "       page_token_count  \n",
       "count            1208.0  \n",
       "mean              287.0  \n",
       "std               140.0  \n",
       "min                 0.0  \n",
       "25%               191.0  \n",
       "50%               308.0  \n",
       "75%               401.0  \n",
       "max               577.0  "
      ]
     },
     "execution_count": 9,
     "metadata": {},
     "output_type": "execute_result"
    }
   ],
   "source": [
    "df = pd.DataFrame(pages_and_texts)\n",
    "df.describe().round() "
   ]
  },
  {
   "cell_type": "code",
   "execution_count": 17,
   "id": "1307682a",
   "metadata": {},
   "outputs": [
    {
     "name": "stdout",
     "output_type": "stream",
     "text": [
      "<class 'list'>\n"
     ]
    },
    {
     "data": {
      "text/plain": [
       "int"
      ]
     },
     "execution_count": 17,
     "metadata": {},
     "output_type": "execute_result"
    }
   ],
   "source": [
    "# split: turn sentences groups into chunks based on specific size\n",
    "sentences_in_chunk = 10\n",
    "\n",
    "def splitSens2Chunk(input_sensList: list[str],\n",
    "                    slice_size: int) -> (list[list[str]],int):\n",
    "    \"\"\"\n",
    "    recursively split sentences into chunks\n",
    "   eg. input:[21], size:10\n",
    "       output:[[10],[10],[1]],3\n",
    "    \"\"\"\n",
    "    # [WAITING] add overlap parameter\n",
    "    result = [input_sensList[i: i + slice_size] for i in range(0, len(input_sensList), slice_size)]\n",
    "    return result,len(result)\n",
    "\n",
    "test = list(range(25))\n",
    "result,num = splitSens2Chunk(test,10)\n",
    "print(type(result))\n",
    "type(num)"
   ]
  },
  {
   "cell_type": "code",
   "execution_count": 18,
   "id": "58d178db",
   "metadata": {},
   "outputs": [
    {
     "name": "stderr",
     "output_type": "stream",
     "text": [
      "100%|██████████████████████████████████████████████████████████████████████████| 1208/1208 [00:00<00:00, 218713.60it/s]\n"
     ]
    }
   ],
   "source": [
    "\"\"\"\n",
    "split sentences into chunk based on given split_size\n",
    "\"\"\"\n",
    "\n",
    "for page in tqdm(pages_and_texts):\n",
    "    page[\"sentences\"], page[\"chunk_num\"] = splitSens2Chunk(page[\"sentences\"],sentences_in_chunk)"
   ]
  },
  {
   "cell_type": "code",
   "execution_count": 20,
   "id": "41adb189",
   "metadata": {
    "scrolled": true
   },
   "outputs": [
    {
     "data": {
      "text/html": [
       "<div>\n",
       "<style scoped>\n",
       "    .dataframe tbody tr th:only-of-type {\n",
       "        vertical-align: middle;\n",
       "    }\n",
       "\n",
       "    .dataframe tbody tr th {\n",
       "        vertical-align: top;\n",
       "    }\n",
       "\n",
       "    .dataframe thead th {\n",
       "        text-align: right;\n",
       "    }\n",
       "</style>\n",
       "<table border=\"1\" class=\"dataframe\">\n",
       "  <thead>\n",
       "    <tr style=\"text-align: right;\">\n",
       "      <th></th>\n",
       "      <th>page_number</th>\n",
       "      <th>page_char_count</th>\n",
       "      <th>page_word_count</th>\n",
       "      <th>page_sentence_count</th>\n",
       "      <th>page_token_count</th>\n",
       "      <th>chunk_num</th>\n",
       "    </tr>\n",
       "  </thead>\n",
       "  <tbody>\n",
       "    <tr>\n",
       "      <th>count</th>\n",
       "      <td>1208.0</td>\n",
       "      <td>1208.0</td>\n",
       "      <td>1208.0</td>\n",
       "      <td>1208.0</td>\n",
       "      <td>1208.0</td>\n",
       "      <td>1208.0</td>\n",
       "    </tr>\n",
       "    <tr>\n",
       "      <th>mean</th>\n",
       "      <td>604.0</td>\n",
       "      <td>1149.0</td>\n",
       "      <td>199.0</td>\n",
       "      <td>10.0</td>\n",
       "      <td>287.0</td>\n",
       "      <td>2.0</td>\n",
       "    </tr>\n",
       "    <tr>\n",
       "      <th>std</th>\n",
       "      <td>349.0</td>\n",
       "      <td>560.0</td>\n",
       "      <td>96.0</td>\n",
       "      <td>6.0</td>\n",
       "      <td>140.0</td>\n",
       "      <td>1.0</td>\n",
       "    </tr>\n",
       "    <tr>\n",
       "      <th>min</th>\n",
       "      <td>0.0</td>\n",
       "      <td>0.0</td>\n",
       "      <td>1.0</td>\n",
       "      <td>0.0</td>\n",
       "      <td>0.0</td>\n",
       "      <td>0.0</td>\n",
       "    </tr>\n",
       "    <tr>\n",
       "      <th>25%</th>\n",
       "      <td>302.0</td>\n",
       "      <td>763.0</td>\n",
       "      <td>134.0</td>\n",
       "      <td>5.0</td>\n",
       "      <td>191.0</td>\n",
       "      <td>1.0</td>\n",
       "    </tr>\n",
       "    <tr>\n",
       "      <th>50%</th>\n",
       "      <td>604.0</td>\n",
       "      <td>1232.0</td>\n",
       "      <td>215.0</td>\n",
       "      <td>10.0</td>\n",
       "      <td>308.0</td>\n",
       "      <td>1.0</td>\n",
       "    </tr>\n",
       "    <tr>\n",
       "      <th>75%</th>\n",
       "      <td>905.0</td>\n",
       "      <td>1605.0</td>\n",
       "      <td>271.0</td>\n",
       "      <td>15.0</td>\n",
       "      <td>401.0</td>\n",
       "      <td>2.0</td>\n",
       "    </tr>\n",
       "    <tr>\n",
       "      <th>max</th>\n",
       "      <td>1207.0</td>\n",
       "      <td>2308.0</td>\n",
       "      <td>429.0</td>\n",
       "      <td>28.0</td>\n",
       "      <td>577.0</td>\n",
       "      <td>3.0</td>\n",
       "    </tr>\n",
       "  </tbody>\n",
       "</table>\n",
       "</div>"
      ],
      "text/plain": [
       "       page_number  page_char_count  page_word_count  page_sentence_count  \\\n",
       "count       1208.0           1208.0           1208.0               1208.0   \n",
       "mean         604.0           1149.0            199.0                 10.0   \n",
       "std          349.0            560.0             96.0                  6.0   \n",
       "min            0.0              0.0              1.0                  0.0   \n",
       "25%          302.0            763.0            134.0                  5.0   \n",
       "50%          604.0           1232.0            215.0                 10.0   \n",
       "75%          905.0           1605.0            271.0                 15.0   \n",
       "max         1207.0           2308.0            429.0                 28.0   \n",
       "\n",
       "       page_token_count  chunk_num  \n",
       "count            1208.0     1208.0  \n",
       "mean              287.0        2.0  \n",
       "std               140.0        1.0  \n",
       "min                 0.0        0.0  \n",
       "25%               191.0        1.0  \n",
       "50%               308.0        1.0  \n",
       "75%               401.0        2.0  \n",
       "max               577.0        3.0  "
      ]
     },
     "execution_count": 20,
     "metadata": {},
     "output_type": "execute_result"
    }
   ],
   "source": [
    "df = pd.DataFrame(pages_and_texts)\n",
    "df.describe().round() "
   ]
  },
  {
   "cell_type": "code",
   "execution_count": 21,
   "id": "937d1ca2",
   "metadata": {},
   "outputs": [
    {
     "name": "stdout",
     "output_type": "stream",
     "text": [
      "[{'chunk_num': 2,\n",
      "  'page_char_count': 1665,\n",
      "  'page_number': 316,\n",
      "  'page_sentence_count': 11,\n",
      "  'page_token_count': 416.25,\n",
      "  'page_word_count': 290,\n",
      "  'sentences': [['long ingredient lists.',\n",
      "                 'On the front of food and beverages the  manufacturers may '\n",
      "                 'include claims such as “sugar-free,” “reduced  sugar,” “high '\n",
      "                 'fiber,” etc.. The Nutrition and Labeling Act of 1990  has '\n",
      "                 'defined for the food industry and consumers what these '\n",
      "                 'labels  mean (Table 4.4 “Food Labels Pertaining to '\n",
      "                 'Carbohydrates”).',\n",
      "                 ' Table 4.4 Food Labels Pertaining to Carbohydrates  Label  '\n",
      "                 'Meaning  Sugar-free  Contains less than 0.5 grams of sugar '\n",
      "                 'per serving  Reduced  sugar  Contains 25 percent less sugar '\n",
      "                 'than similar product  Less sugar  Contains 25 percent less '\n",
      "                 'sugar than similar product, and  was not altered by '\n",
      "                 'processing to become so  No sugars  added  No sugars added '\n",
      "                 'during processing  High fiber  Contains at least 20 percent '\n",
      "                 'of daily value of fiber in each  serving  A good  source of  '\n",
      "                 'fiber  Contains between 10 and 19 percent of the daily value '\n",
      "                 'of  fiber per serving  More fiber  Contains 10 percent or '\n",
      "                 'more of the daily value of fiber per  serving  Source: '\n",
      "                 'Appendix A: Definitions of Nutrient Claims.',\n",
      "                 'Guidance for  Industry: A Food Labeling Guide.',\n",
      "                 'US Food and Drug Administration.',\n",
      "                 ' http:/ /www.fda.gov/Food/ '\n",
      "                 'GuidanceComplianceRegulatoryInformation/ '\n",
      "                 'GuidanceDocuments/FoodLabelingNutrition/FoodLabelingGuide/ '\n",
      "                 'ucm064911.htm.',\n",
      "                 'Updated October 2009.',\n",
      "                 'Accessed September 22,  2017.',\n",
      "                 ' In addition, the FDA permits foods that contain whole oats '\n",
      "                 '(which  contain soluble fiber) to make the health claim on '\n",
      "                 'the package that  the food reduces the risk of coronary '\n",
      "                 'heart disease.',\n",
      "                 'The FDA no  longer permits Cheerios to make the claim that '\n",
      "                 'by eating their  cereal “you can lower your cholesterol four '\n",
      "                 'percent in six weeks.”'],\n",
      "                [' Carbohydrates and Personal Diet Choices  |  275']],\n",
      "  'text': 'long ingredient lists. On the front of food and beverages the  '\n",
      "          'manufacturers may include claims such as “sugar-free,” “reduced  '\n",
      "          'sugar,” “high fiber,” etc.. The Nutrition and Labeling Act of 1990  '\n",
      "          'has defined for the food industry and consumers what these labels  '\n",
      "          'mean (Table 4.4 “Food Labels Pertaining to Carbohydrates”).  Table '\n",
      "          '4.4 Food Labels Pertaining to Carbohydrates  Label  Meaning  '\n",
      "          'Sugar-free  Contains less than 0.5 grams of sugar per serving  '\n",
      "          'Reduced  sugar  Contains 25 percent less sugar than similar '\n",
      "          'product  Less sugar  Contains 25 percent less sugar than similar '\n",
      "          'product, and  was not altered by processing to become so  No '\n",
      "          'sugars  added  No sugars added during processing  High fiber  '\n",
      "          'Contains at least 20 percent of daily value of fiber in each  '\n",
      "          'serving  A good  source of  fiber  Contains between 10 and 19 '\n",
      "          'percent of the daily value of  fiber per serving  More fiber  '\n",
      "          'Contains 10 percent or more of the daily value of fiber per  '\n",
      "          'serving  Source: Appendix A: Definitions of Nutrient Claims. '\n",
      "          'Guidance for  Industry: A Food Labeling Guide. US Food and Drug '\n",
      "          'Administration.  http:/ /www.fda.gov/Food/ '\n",
      "          'GuidanceComplianceRegulatoryInformation/ '\n",
      "          'GuidanceDocuments/FoodLabelingNutrition/FoodLabelingGuide/ '\n",
      "          'ucm064911.htm. Updated October 2009. Accessed September 22,  2017.  '\n",
      "          'In addition, the FDA permits foods that contain whole oats (which  '\n",
      "          'contain soluble fiber) to make the health claim on the package '\n",
      "          'that  the food reduces the risk of coronary heart disease. The FDA '\n",
      "          'no  longer permits Cheerios to make the claim that by eating their  '\n",
      "          'cereal “you can lower your cholesterol four percent in six weeks.”  '\n",
      "          'Carbohydrates and Personal Diet Choices  |  275'}]\n"
     ]
    }
   ],
   "source": [
    "pprint(random.sample(pages_and_texts, k=1))"
   ]
  },
  {
   "cell_type": "code",
   "execution_count": 26,
   "id": "f94862d7",
   "metadata": {},
   "outputs": [
    {
     "name": "stderr",
     "output_type": "stream",
     "text": [
      "100%|███████████████████████████████████████████████████████████████████████████| 1208/1208 [00:00<00:00, 19826.41it/s]\n"
     ]
    }
   ],
   "source": [
    "\"\"\"\n",
    "将chunks独立为每一个条目，并附加meta source\n",
    "\"\"\"\n",
    "import re\n",
    "\n",
    "chunks = []\n",
    "\n",
    "for page in tqdm(pages_and_texts):\n",
    "    for sens_chunk in page[\"sentences\"]:\n",
    "        chunk_dict = {}\n",
    "        chunk_dict[\"page_number\"] = page[\"page_number\"]\n",
    "        # chunk中的sentences进行集成，为1个str\n",
    "        sents_in_chunk = \"\".join(sens_chunk).replace(\"  \",\" \").strip()\n",
    "        chunk_dict[\"sentence_chunk\"] = sents_in_chunk\n",
    "        chunk_dict[\"chunk_char_count\"] = len(sents_in_chunk)\n",
    "        chunk_dict[\"chunk_word_count\"] = len(sents_in_chunk.split(\" \"))\n",
    "        chunk_dict[\"chunk_token_count\"] = chunk_dict[\"chunk_char_count\"]/4\n",
    "        chunks.append(chunk_dict)"
   ]
  },
  {
   "cell_type": "code",
   "execution_count": 27,
   "id": "a433ee1d",
   "metadata": {},
   "outputs": [
    {
     "data": {
      "text/plain": [
       "1843"
      ]
     },
     "execution_count": 27,
     "metadata": {},
     "output_type": "execute_result"
    }
   ],
   "source": [
    "len(chunks)"
   ]
  },
  {
   "cell_type": "code",
   "execution_count": 28,
   "id": "492b6042",
   "metadata": {},
   "outputs": [
    {
     "name": "stdout",
     "output_type": "stream",
     "text": [
      "[{'chunk_char_count': 434,\n",
      "  'chunk_token_count': 108.5,\n",
      "  'chunk_word_count': 50,\n",
      "  'page_number': 1048,\n",
      "  'sentence_chunk': 'Organic foods are grown or produced without synthetic '\n",
      "                    'pesticides or fertilizer, and all growers and processors '\n",
      "                    'must be certified by the US Department of Agriculture '\n",
      "                    '(USDA).However, conventionally-grown produce 7.\\xa0'\n",
      "                    'Pesticide Residues in Food. (2018).World Health '\n",
      "                    'Organization.http:/ /www.who.int/mediacentre/ '\n",
      "                    'factsheets/pesticide-residues-food/en/. Updated January '\n",
      "                    '2018.Accessed January 28, 2018. The Causes of Food '\n",
      "                    'Contamination | 1007'}]\n"
     ]
    }
   ],
   "source": [
    "pprint(random.sample(chunks,k=1))"
   ]
  },
  {
   "cell_type": "code",
   "execution_count": 29,
   "id": "cec83bd8",
   "metadata": {},
   "outputs": [
    {
     "data": {
      "text/plain": [
       "{'page_number': 716,\n",
       " 'sentence_chunk': 'Selenium UNIVERSITY OF HAWAI‘I AT MĀNOA FOOD SCIENCE AND HUMAN NUTRITION PROGRAM AND HUMAN NUTRITION PROGRAM Selenium is a cofactor of enzymes that release active thyroid hormone in cells and therefore low levels can cause similar signs and symptoms as iodine deficiency.The other important function of selenium is as an antioxidant. Selenium Functions and Health Benefits Around twenty-five known proteins require selenium to function. Some are enzymes involved in detoxifying free radicals and include glutathione peroxidases and thioredoxin reductase.As an integral functioning part of these enzymes, selenium aids in the regeneration of glutathione and oxidized vitamin C. Selenium as part of glutathione peroxidase also protects lipids from free radicals, and, in doing so, spares vitamin E. This is just one example of how antioxidants work together to protect the body against free- radical induced damage.Other functions of selenium-containing proteins include protecting endothelial cells that line tissues, converting the inactive thyroid hormone to the active form in cells, and mediating inflammatory and immune system responses. Observational studies have demonstrated that selenium deficiency is linked to an increased risk of cancer.A review of forty- nine observational studies published in the May 2011 issue of the Cochrane Database of Systematic Reviews concluded that higher selenium exposure reduces overall cancer incidence by about 34 percent in men and 10 percent in women, but notes these studies had several limitations, including data quality, bias, and large Selenium | 675',\n",
       " 'chunk_char_count': 1601,\n",
       " 'chunk_word_count': 234,\n",
       " 'chunk_token_count': 400.25}"
      ]
     },
     "execution_count": 29,
     "metadata": {},
     "output_type": "execute_result"
    }
   ],
   "source": []
  },
  {
   "cell_type": "code",
   "execution_count": 30,
   "id": "4a7d2b42",
   "metadata": {},
   "outputs": [
    {
     "data": {
      "text/html": [
       "<div>\n",
       "<style scoped>\n",
       "    .dataframe tbody tr th:only-of-type {\n",
       "        vertical-align: middle;\n",
       "    }\n",
       "\n",
       "    .dataframe tbody tr th {\n",
       "        vertical-align: top;\n",
       "    }\n",
       "\n",
       "    .dataframe thead th {\n",
       "        text-align: right;\n",
       "    }\n",
       "</style>\n",
       "<table border=\"1\" class=\"dataframe\">\n",
       "  <thead>\n",
       "    <tr style=\"text-align: right;\">\n",
       "      <th></th>\n",
       "      <th>page_number</th>\n",
       "      <th>chunk_char_count</th>\n",
       "      <th>chunk_word_count</th>\n",
       "      <th>chunk_token_count</th>\n",
       "    </tr>\n",
       "  </thead>\n",
       "  <tbody>\n",
       "    <tr>\n",
       "      <th>count</th>\n",
       "      <td>1843.000000</td>\n",
       "      <td>1843.000000</td>\n",
       "      <td>1843.000000</td>\n",
       "      <td>1843.000000</td>\n",
       "    </tr>\n",
       "    <tr>\n",
       "      <th>mean</th>\n",
       "      <td>624.381443</td>\n",
       "      <td>731.501356</td>\n",
       "      <td>109.391753</td>\n",
       "      <td>182.875339</td>\n",
       "    </tr>\n",
       "    <tr>\n",
       "      <th>std</th>\n",
       "      <td>347.788670</td>\n",
       "      <td>445.541228</td>\n",
       "      <td>69.180205</td>\n",
       "      <td>111.385307</td>\n",
       "    </tr>\n",
       "    <tr>\n",
       "      <th>min</th>\n",
       "      <td>0.000000</td>\n",
       "      <td>12.000000</td>\n",
       "      <td>3.000000</td>\n",
       "      <td>3.000000</td>\n",
       "    </tr>\n",
       "    <tr>\n",
       "      <th>25%</th>\n",
       "      <td>321.500000</td>\n",
       "      <td>314.000000</td>\n",
       "      <td>43.000000</td>\n",
       "      <td>78.500000</td>\n",
       "    </tr>\n",
       "    <tr>\n",
       "      <th>50%</th>\n",
       "      <td>627.000000</td>\n",
       "      <td>745.000000</td>\n",
       "      <td>111.000000</td>\n",
       "      <td>186.250000</td>\n",
       "    </tr>\n",
       "    <tr>\n",
       "      <th>75%</th>\n",
       "      <td>931.000000</td>\n",
       "      <td>1112.000000</td>\n",
       "      <td>168.000000</td>\n",
       "      <td>278.000000</td>\n",
       "    </tr>\n",
       "    <tr>\n",
       "      <th>max</th>\n",
       "      <td>1207.000000</td>\n",
       "      <td>1824.000000</td>\n",
       "      <td>290.000000</td>\n",
       "      <td>456.000000</td>\n",
       "    </tr>\n",
       "  </tbody>\n",
       "</table>\n",
       "</div>"
      ],
      "text/plain": [
       "       page_number  chunk_char_count  chunk_word_count  chunk_token_count\n",
       "count  1843.000000       1843.000000       1843.000000        1843.000000\n",
       "mean    624.381443        731.501356        109.391753         182.875339\n",
       "std     347.788670        445.541228         69.180205         111.385307\n",
       "min       0.000000         12.000000          3.000000           3.000000\n",
       "25%     321.500000        314.000000         43.000000          78.500000\n",
       "50%     627.000000        745.000000        111.000000         186.250000\n",
       "75%     931.000000       1112.000000        168.000000         278.000000\n",
       "max    1207.000000       1824.000000        290.000000         456.000000"
      ]
     },
     "execution_count": 30,
     "metadata": {},
     "output_type": "execute_result"
    }
   ],
   "source": [
    "chunk_df = pd.DataFrame(chunks)\n",
    "chunk_df.describe()"
   ]
  },
  {
   "cell_type": "code",
   "execution_count": 61,
   "id": "a78073d2",
   "metadata": {
    "scrolled": true
   },
   "outputs": [
    {
     "name": "stdout",
     "output_type": "stream",
     "text": [
      "\\\\\\\\\\\\\\\\\\\\\\\\\\\n",
      "9.25\t Protein’s Functions in the Body | 387 \n",
      "\\\\\\\\\\\\\\\\\\\\\\\\\\\n",
      "5.25\t Young Adulthood | 907 \n"
     ]
    }
   ],
   "source": [
    "\"\"\"\n",
    "根据token量过滤一些信息少或无用的chunk\n",
    "\"\"\"\n",
    "min_token = 10\n",
    "rows = chunk_df[chunk_df[\"chunk_token_count\"] <= min_token].sample(2).iterrows()\n",
    "for row in rows:\n",
    "    print(\"\\\\\\\\\\\\\\\\\\\\\\\\\\\\\\\\\\\\\\\\\\\\\\\\\\\\\")\n",
    "#     print(row)   \n",
    "#     print(\"----------------------\")\n",
    "#     print(row[1])\n",
    "#     print(\"#########################\")\n",
    "#     print(row[0])\n",
    "    print(f'{row[1][\"chunk_token_count\"]}\\t {row[1][\"sentence_chunk\"]} ' )"
   ]
  },
  {
   "cell_type": "code",
   "execution_count": 63,
   "id": "209e075f",
   "metadata": {},
   "outputs": [
    {
     "name": "stdout",
     "output_type": "stream",
     "text": [
      "{'chunk_char_count': 308,\n",
      " 'chunk_token_count': 77.0,\n",
      " 'chunk_word_count': 42,\n",
      " 'page_number': 2,\n",
      " 'sentence_chunk': 'Human Nutrition: 2020 Edition UNIVERSITY OF HAWAI‘I AT '\n",
      "                   'MĀNOA FOOD SCIENCE AND HUMAN NUTRITION PROGRAM ALAN '\n",
      "                   'TITCHENAL, SKYLAR HARA, NOEMI ARCEO CAACBAY, WILLIAM '\n",
      "                   'MEINKE-LAU, YA-YUN YANG, MARIE KAINOA FIALKOWSKI REVILLA, '\n",
      "                   'JENNIFER DRAPER, GEMADY LANGFELDER, CHERYL GIBBY, CHYNA '\n",
      "                   'NICOLE CHUN, AND ALLISON CALABRESE'}\n"
     ]
    }
   ],
   "source": [
    "# [WAITING] letter into function\n",
    "chunks_after_filter = chunk_df[chunk_df[\"chunk_token_count\"] >= min_token].to_dict(orient='records')\n",
    "pprint(chunks_after_filter[0])"
   ]
  },
  {
   "cell_type": "code",
   "execution_count": 66,
   "id": "97566b04",
   "metadata": {
    "scrolled": true
   },
   "outputs": [
    {
     "name": "stderr",
     "output_type": "stream",
     "text": [
      "E:\\My_Anaconda\\Anaconda\\envs\\LangChain_and_VectorDB\\Lib\\site-packages\\huggingface_hub\\file_download.py:157: UserWarning: `huggingface_hub` cache-system uses symlinks by default to efficiently store duplicated files but your machine does not support them in C:\\Users\\20931\\.cache\\huggingface\\hub\\models--sentence-transformers--all-mpnet-base-v2. Caching files will still work but in a degraded version that might require more space on your disk. This warning can be disabled by setting the `HF_HUB_DISABLE_SYMLINKS_WARNING` environment variable. For more details, see https://huggingface.co/docs/huggingface_hub/how-to-cache#limitations.\n",
      "To support symlinks on Windows, you either need to activate Developer Mode or to run Python as an administrator. In order to see activate developer mode, see this article: https://docs.microsoft.com/en-us/windows/apps/get-started/enable-your-device-for-development\n",
      "  warnings.warn(message)\n",
      "E:\\My_Anaconda\\Anaconda\\envs\\LangChain_and_VectorDB\\Lib\\site-packages\\huggingface_hub\\file_download.py:1132: FutureWarning: `resume_download` is deprecated and will be removed in version 1.0.0. Downloads always resume when possible. If you want to force a new download, use `force_download=True`.\n",
      "  warnings.warn(\n"
     ]
    }
   ],
   "source": [
    "\"\"\"\n",
    "Embedding chunks. eg.embedding model or algorithm like word2vec、custom regulars\n",
    "\"\"\"\n",
    "from sentence_transformers import SentenceTransformer\n",
    "embd_model = SentenceTransformer(model_name_or_path=\"all-mpnet-base-v2\")"
   ]
  },
  {
   "cell_type": "code",
   "execution_count": 68,
   "id": "938d5a4e",
   "metadata": {},
   "outputs": [
    {
     "data": {
      "text/plain": [
       "array([-1.36108100e-02,  1.15037695e-01, -2.76783425e-02, -4.14817408e-02,\n",
       "        4.85481806e-02,  3.82316895e-02, -4.50075455e-02, -1.20270336e-02,\n",
       "       -2.49745115e-03, -1.71299949e-02, -8.12142268e-02,  1.76440980e-02,\n",
       "       -5.39075062e-02, -1.39213512e-02, -1.78446453e-02, -1.16300527e-02,\n",
       "        3.81280705e-02,  8.37637782e-02,  1.67845599e-02, -1.06972586e-02,\n",
       "        3.21551161e-05,  3.07504162e-02, -5.29045835e-02, -3.61079201e-02,\n",
       "        2.34360062e-02,  3.19114029e-02, -2.55380794e-02, -5.15754446e-02,\n",
       "        3.55900936e-02,  3.68738212e-02, -5.27857877e-02, -2.98764370e-02,\n",
       "       -1.24991592e-02, -2.51651723e-02,  1.49855214e-06,  1.84041765e-02,\n",
       "       -3.83866802e-02,  2.07600985e-02,  6.01903498e-02, -2.36746250e-03,\n",
       "       -3.24441232e-02, -6.69481084e-02, -3.87305133e-02, -5.49310297e-02,\n",
       "       -3.28556597e-02,  6.51455000e-02,  6.16199113e-02,  8.87639355e-03,\n",
       "       -2.27862354e-02,  3.51174474e-02, -2.30697785e-02, -5.32982200e-02,\n",
       "       -5.27124517e-02,  8.36136006e-03,  2.75195837e-02, -7.03143468e-03,\n",
       "        4.05523144e-02, -6.87642116e-03,  1.85297038e-02, -2.50910856e-02,\n",
       "        1.49805546e-02, -4.84886430e-02,  7.24248542e-03, -2.11394094e-02,\n",
       "        5.57252318e-02,  2.38898769e-02,  2.31701043e-02, -4.13998738e-02,\n",
       "        2.75299363e-02,  2.14309222e-03, -3.07588726e-02, -1.48979044e-02,\n",
       "       -3.61551717e-02,  5.07155014e-03,  2.03843229e-03, -2.88979448e-02,\n",
       "        1.79571507e-03,  4.30667475e-02, -1.10166064e-02,  3.64680123e-03,\n",
       "       -4.98623177e-02, -1.18452692e-02,  3.06890775e-02,  1.87351853e-02,\n",
       "       -1.57336779e-02,  7.36917630e-02,  1.97589900e-02,  1.89277958e-02,\n",
       "        3.91202159e-02,  5.87129667e-02, -5.03288023e-02,  2.25457158e-02,\n",
       "        6.19702041e-02,  8.92093182e-02, -7.03193322e-02,  6.45795045e-03,\n",
       "       -4.13008332e-02,  2.55739279e-02,  2.18730476e-02, -1.51211880e-02,\n",
       "        3.17658950e-03, -1.33620827e-02, -4.05896381e-02, -1.65251095e-03,\n",
       "       -3.88235040e-02,  2.46519246e-03, -1.64558145e-03,  2.92478595e-02,\n",
       "       -3.71220405e-03,  1.25274286e-02,  4.96407226e-03, -4.59786830e-03,\n",
       "        2.01228689e-02,  2.38005295e-02,  2.80281175e-02,  2.29949802e-02,\n",
       "        4.87212418e-03,  6.92000166e-02,  6.90513465e-04,  1.97395049e-02,\n",
       "       -2.06178594e-02, -4.59079966e-02,  1.70322321e-02,  5.88865802e-02,\n",
       "        8.75097321e-05,  8.56838934e-03, -7.26927891e-02,  6.36099502e-02,\n",
       "       -4.74515520e-02,  1.49741035e-03, -1.58270765e-02, -2.66627520e-02,\n",
       "        3.38792391e-02, -4.28730249e-02,  3.29661407e-02, -3.30165923e-02,\n",
       "        3.58939683e-03, -4.37902622e-02,  2.81416214e-05,  3.11726425e-03,\n",
       "        1.01515120e-02, -5.19213714e-02, -1.96992569e-02, -8.91134050e-03,\n",
       "       -4.17423528e-03, -9.36549250e-03,  1.52810384e-02,  1.90892145e-02,\n",
       "       -2.71253921e-02,  2.03102157e-02, -6.24201214e-03,  3.25095877e-02,\n",
       "       -8.57958719e-02,  2.30592564e-02,  1.53439846e-02,  3.81059130e-03,\n",
       "        2.90511549e-02, -4.58320342e-02, -1.51869794e-02,  3.23891826e-02,\n",
       "        3.89530584e-02,  2.53076069e-02,  1.33023243e-02, -3.19706313e-02,\n",
       "       -1.79837476e-02, -5.39574437e-02,  3.57012264e-02, -7.71487271e-03,\n",
       "       -5.45798764e-02, -1.35448100e-02,  3.08569930e-02, -1.57227162e-02,\n",
       "        2.67503280e-02,  6.14642818e-03,  7.26102293e-02,  3.01033072e-02,\n",
       "       -4.20856988e-03, -4.09977743e-03, -2.96373013e-02, -6.50330633e-02,\n",
       "        5.27409650e-02, -4.46526892e-02,  4.13814038e-02, -1.28546199e-02,\n",
       "       -2.95334421e-02, -5.18717617e-03, -2.53072660e-02,  1.41511913e-02,\n",
       "        6.06118422e-03, -1.57504957e-02,  2.28630975e-02,  1.66122075e-02,\n",
       "        4.38485034e-02,  2.21292060e-02,  3.30468453e-02, -3.16866743e-03,\n",
       "        3.16277705e-02, -8.63560066e-02,  4.65509146e-02, -1.79450517e-03,\n",
       "       -3.91947106e-03,  3.33541073e-02,  4.27150615e-02,  2.25062501e-02,\n",
       "       -2.01055687e-03, -1.31070446e-02, -5.21138869e-03, -4.49370127e-03,\n",
       "        5.79807721e-02, -5.83500788e-02,  6.70546889e-02, -1.53945154e-02,\n",
       "       -1.86757203e-02,  1.92906018e-02,  1.59135908e-02,  1.72068533e-02,\n",
       "        5.38796326e-03, -3.58912908e-02,  5.70057891e-03,  7.25545362e-02,\n",
       "       -3.72894853e-02, -2.00545285e-02,  7.14606941e-02,  4.29435447e-02,\n",
       "        4.63139117e-02,  3.40787843e-02, -3.39408196e-03,  3.73998769e-02,\n",
       "        7.62568461e-03, -3.41280457e-03,  3.23378039e-03, -2.69030943e-03,\n",
       "        4.18198705e-02,  5.82245998e-02, -9.94720496e-03,  3.33971642e-02,\n",
       "        3.25490758e-02, -3.44766192e-02, -1.51172895e-02,  2.45536491e-02,\n",
       "       -8.37985426e-03,  6.04394637e-02,  5.26646860e-02,  3.62587571e-02,\n",
       "       -2.13630665e-02, -5.38682863e-02,  5.12095988e-02, -4.23845975e-03,\n",
       "       -7.85738975e-03, -5.07641807e-02, -5.02138734e-02, -4.81726117e-02,\n",
       "       -1.62889971e-03,  3.84315103e-02,  3.83578688e-02, -5.64650781e-02,\n",
       "       -1.17692575e-02, -4.81634252e-02,  9.32834670e-03, -1.00651301e-01,\n",
       "        6.29384443e-02, -1.17104277e-02, -1.27309235e-02,  5.52330203e-02,\n",
       "       -1.24738878e-02,  1.52796572e-02,  2.56896624e-03, -5.27501181e-02,\n",
       "        4.01725993e-04,  2.64992360e-02,  3.97257740e-03, -4.12018672e-02,\n",
       "       -3.10487039e-02,  3.24545316e-02,  9.68536735e-03, -2.66046217e-03,\n",
       "       -3.11704185e-02, -3.71023826e-02,  9.24036605e-04,  1.16955871e-02,\n",
       "       -2.08297819e-02,  2.16598604e-02,  2.88493559e-02,  2.55218185e-02,\n",
       "       -1.39314895e-02, -4.38740775e-02,  2.58325171e-02,  1.07446769e-02,\n",
       "        4.28744480e-02,  1.94983277e-02,  3.24781612e-03,  1.27873244e-02,\n",
       "       -7.54244579e-03, -7.44306147e-02,  1.71677396e-02, -5.47188427e-03,\n",
       "       -2.84231249e-02,  3.62660326e-02,  2.55673025e-02,  2.97235940e-02,\n",
       "        5.21084629e-02,  3.85286845e-02,  2.67141443e-02,  1.99092925e-03,\n",
       "        2.22394150e-02, -4.00483273e-02, -4.37189676e-02,  1.50975408e-02,\n",
       "        2.60169879e-02,  1.59568749e-02, -1.70701668e-02, -7.97399580e-02,\n",
       "       -3.22963446e-02,  1.48267085e-02,  7.88361207e-02, -2.19930126e-03,\n",
       "       -2.25645434e-02, -5.22274189e-02,  4.38677631e-02,  2.45181378e-02,\n",
       "       -4.20237286e-03, -1.99919613e-03,  3.01644355e-02,  3.58768553e-02,\n",
       "       -4.95154858e-02, -1.76765695e-02, -2.93351039e-02, -8.71606823e-03,\n",
       "        5.34350984e-02,  1.84192490e-02,  2.30638552e-02,  9.74513311e-03,\n",
       "        8.56227130e-02,  2.64152442e-03,  3.84071842e-03, -3.65019217e-02,\n",
       "        2.22534239e-02,  1.96587164e-02, -1.52448406e-02,  2.22660061e-02,\n",
       "        2.25551170e-03,  2.16137152e-02, -7.13922307e-02, -3.46053354e-02,\n",
       "       -4.15620208e-02,  2.76114922e-02, -7.52056316e-02, -1.74624901e-02,\n",
       "       -5.40275984e-02, -4.33855280e-02,  7.49264583e-02, -7.27556348e-02,\n",
       "       -4.69678547e-03, -4.76531172e-03,  8.57597403e-03,  1.05158370e-02,\n",
       "        6.08647503e-02, -1.79718323e-02, -2.08361335e-02, -1.24244187e-02,\n",
       "       -1.07533354e-02,  2.32276544e-02,  2.29056608e-02,  3.80077329e-03,\n",
       "       -1.98560040e-02,  2.45309900e-03,  2.50000935e-02, -7.15899374e-03,\n",
       "       -2.13840101e-02, -2.33297888e-02, -4.41687414e-03,  3.34999524e-03,\n",
       "       -6.84671290e-03,  6.07484840e-02,  1.97689068e-02,  2.85506323e-02,\n",
       "        5.48968092e-02,  3.54602821e-02, -4.17645089e-02, -1.23832198e-02,\n",
       "        5.50520867e-02, -4.50869277e-02, -6.31899061e-03,  3.34493779e-02,\n",
       "       -4.00446057e-02, -6.08363375e-03,  2.65915878e-02, -5.55115230e-02,\n",
       "       -2.88021266e-02, -2.12085843e-02,  3.92340198e-02, -3.28136124e-02,\n",
       "       -9.65311006e-02, -7.27454126e-02, -3.13477218e-03, -3.80173512e-02,\n",
       "       -3.17319930e-02,  2.91037727e-02,  2.10134573e-02,  2.71301866e-02,\n",
       "       -7.43922731e-03,  1.34079814e-01,  1.95826665e-02, -1.82161238e-02,\n",
       "       -5.15231453e-02,  2.86919228e-03,  3.94770317e-02,  6.28821403e-02,\n",
       "        1.94937754e-02, -7.03488588e-02, -9.47003141e-02,  6.29376294e-03,\n",
       "       -1.76410936e-02, -2.42301123e-03, -2.71471497e-02, -2.87794974e-02,\n",
       "        1.68117285e-02,  7.06730690e-03,  3.23998369e-02, -3.86919156e-02,\n",
       "       -3.62994932e-02,  1.87663129e-03, -1.00199850e-02, -5.73217422e-02,\n",
       "       -6.93169907e-02, -7.10872235e-03,  1.51478415e-02,  1.68833584e-02,\n",
       "        2.42558606e-02, -1.59562360e-02,  6.92224549e-03,  3.03633120e-02,\n",
       "       -1.07701151e-02, -3.24814557e-03, -1.55003602e-02, -7.69739598e-02,\n",
       "       -1.17024165e-02, -2.93931514e-02, -8.65944549e-02, -5.29338568e-02,\n",
       "       -4.39826325e-02, -1.20121697e-02,  3.66260903e-03,  7.57479668e-03,\n",
       "        5.81948087e-03,  1.41764348e-02, -3.51758823e-02, -3.33298929e-02,\n",
       "        8.97218194e-03,  3.06641292e-02,  2.52381060e-02,  3.34741827e-03,\n",
       "       -3.31787430e-02,  7.72916228e-02,  1.89489573e-02, -3.25595811e-02,\n",
       "       -8.54458287e-03, -2.25091390e-02, -7.27553340e-03,  1.03045898e-02,\n",
       "        6.73143864e-02,  1.15706446e-02,  2.02396400e-02,  2.79011484e-03,\n",
       "        2.88123600e-02, -2.42106616e-02, -4.80719749e-03,  6.77321618e-03,\n",
       "        1.03649674e-02, -2.63688155e-02, -1.22169964e-02, -3.31562967e-03,\n",
       "       -1.12348897e-02,  1.65834092e-02,  6.62288144e-02,  2.96542421e-02,\n",
       "       -5.71671268e-03, -1.64981801e-02, -5.07659204e-02, -3.18037532e-02,\n",
       "       -2.33867038e-02,  1.78739149e-02, -8.12816620e-03,  4.31307126e-03,\n",
       "        1.28609901e-02,  7.22958939e-03, -4.25710529e-02, -1.95756704e-02,\n",
       "       -1.11420183e-02, -6.67725578e-02,  1.90798976e-02, -5.79973357e-03,\n",
       "       -6.68347627e-02, -9.33538601e-02, -3.64150442e-02,  6.90629110e-02,\n",
       "        3.03218933e-03, -3.36838104e-02,  2.54788417e-02,  2.16022320e-02,\n",
       "       -1.67456176e-02,  1.02457972e-02,  3.73608642e-03,  2.05928124e-02,\n",
       "        2.66675819e-02, -4.31793034e-02,  1.51063316e-02,  4.32139402e-03,\n",
       "       -1.45054776e-02,  6.30889693e-03,  2.57427003e-02,  1.38305109e-02,\n",
       "       -6.40316829e-02, -8.05073231e-03,  4.18399535e-02, -3.20012718e-02,\n",
       "       -5.08497655e-03, -6.08245991e-02, -8.09286721e-03, -4.68862429e-02,\n",
       "        7.86674954e-03, -1.16159506e-02,  1.84740461e-02,  3.10018174e-02,\n",
       "       -2.80080792e-02,  5.54462953e-04,  4.86007007e-03, -4.01050597e-02,\n",
       "       -3.17765176e-02,  2.90298741e-02,  1.54716261e-02,  1.10025459e-03,\n",
       "       -6.34715334e-03, -2.21856125e-02, -6.58646924e-03,  4.05026972e-02,\n",
       "        3.43708694e-02,  5.70840091e-02, -1.13328639e-02,  2.42015682e-02,\n",
       "       -2.17555966e-02,  4.93629500e-02, -2.25374829e-02, -6.47838935e-02,\n",
       "        1.78625844e-02,  2.38235854e-02,  5.88843077e-02,  1.41103696e-02,\n",
       "       -5.25154322e-02, -5.41993007e-02, -3.36854421e-02,  1.64845977e-02,\n",
       "       -2.55020671e-02, -8.37900676e-03, -7.68396407e-02, -6.04943960e-33,\n",
       "       -9.97176114e-03, -1.99428406e-02, -4.44500744e-02,  1.98224168e-02,\n",
       "       -3.66776064e-02, -6.41252697e-02,  1.23530477e-02,  2.22630557e-02,\n",
       "       -1.31248003e-02,  1.43652763e-02, -5.52171841e-02,  3.51937935e-02,\n",
       "       -4.54293983e-03, -1.23110199e-02, -2.02123635e-03,  2.94836741e-02,\n",
       "        5.37538901e-02,  1.80127453e-02,  4.73917089e-03, -3.87043506e-03,\n",
       "        1.32799949e-02, -2.08487809e-02,  3.78810801e-02,  4.12177108e-02,\n",
       "        1.44320317e-02,  6.34295344e-02, -8.08305852e-03, -7.21002221e-02,\n",
       "        1.86597519e-02,  5.20723350e-02,  5.05657354e-03,  4.42360714e-03,\n",
       "       -2.11937111e-02,  7.21525922e-02,  4.66852449e-03,  6.45055398e-02,\n",
       "       -3.87701057e-02,  3.39757316e-02, -1.75002571e-02,  5.85937202e-02,\n",
       "        7.54090622e-02, -7.97592625e-02,  5.16527928e-02, -9.97975990e-02,\n",
       "       -5.09982510e-03, -8.47872626e-03,  4.91970815e-02, -1.55722704e-02,\n",
       "       -1.16803031e-02,  1.10878656e-02, -6.01652712e-02, -1.10403560e-02,\n",
       "       -1.38289230e-02, -8.68227240e-03,  1.54405665e-02, -8.13501999e-02,\n",
       "        8.05119276e-02,  3.59829888e-02,  2.42114626e-02, -4.63935966e-03,\n",
       "       -1.33982413e-02, -3.84825766e-02, -2.96773743e-02, -5.51376157e-02,\n",
       "        2.94849165e-02,  8.49028230e-02,  7.51482649e-03, -4.38399659e-03,\n",
       "        4.91401814e-02, -2.43971478e-02,  9.74161364e-03,  2.39678621e-02,\n",
       "        6.26253663e-03, -5.28880954e-02, -2.60914825e-02,  2.25015469e-02,\n",
       "       -2.40511615e-02, -3.39131430e-02, -2.17465702e-02,  1.50936106e-02,\n",
       "        3.29263881e-02,  5.83487786e-02,  5.56700816e-03,  4.48081493e-02,\n",
       "        5.09218201e-02, -1.31512722e-02,  1.59093887e-02, -3.74240503e-02,\n",
       "       -5.33945262e-02, -2.94372998e-02, -5.11862208e-06,  1.08174048e-02,\n",
       "       -4.17789444e-02, -7.10420823e-03, -1.74639151e-02,  3.47048347e-03,\n",
       "       -5.31963408e-02, -4.05172631e-02, -3.89348269e-02,  3.08037782e-03,\n",
       "        1.14864111e-02,  1.42709427e-02,  5.36298268e-02,  6.17865175e-02,\n",
       "        1.18559161e-02,  3.23297046e-02,  2.58332565e-02, -1.42576348e-03,\n",
       "       -3.20833432e-03, -2.06020032e-03, -1.07765279e-03,  5.25499657e-02,\n",
       "        7.84413815e-02,  7.25566968e-02,  4.72988524e-02,  2.70219333e-02,\n",
       "        8.08325503e-03, -2.06016656e-03, -6.15335740e-02, -6.62062317e-03,\n",
       "        1.41629297e-02,  3.93350562e-03, -8.41837227e-02,  9.26707592e-03,\n",
       "        3.20804380e-02, -3.55027802e-02, -4.15024385e-02, -3.86467250e-03,\n",
       "       -6.02891222e-02, -2.80243531e-02,  2.21528616e-02, -9.10745561e-03,\n",
       "        2.33177914e-07, -5.99612892e-02, -3.39842103e-02,  2.85750162e-02,\n",
       "        1.15677319e-01,  8.23707227e-03,  5.57877906e-02, -1.33442916e-02,\n",
       "       -1.66978016e-02, -3.92245688e-03,  5.42873442e-02, -9.79992654e-03,\n",
       "        3.06527433e-03,  5.94227314e-02, -1.48282470e-02,  4.36594896e-03,\n",
       "       -2.76654363e-02,  4.78873309e-03, -9.32446588e-03,  4.22684141e-02,\n",
       "       -7.25107118e-02, -5.39325476e-02,  5.39947115e-03,  8.27713013e-02,\n",
       "        9.88915376e-03,  4.24895771e-02,  1.06738517e-02, -1.72292478e-02,\n",
       "       -3.93608026e-02,  7.19226450e-02,  3.50981355e-02,  3.48192118e-02,\n",
       "       -2.88777822e-03, -3.95540856e-02,  1.22209564e-02, -2.56678388e-02,\n",
       "       -3.94266024e-02, -1.42204827e-02, -1.29164271e-02,  2.17627436e-02,\n",
       "        4.95937839e-02, -1.68801565e-02,  3.95146534e-02, -3.65900360e-02,\n",
       "       -3.44526358e-02,  1.35938386e-02,  2.15795729e-02,  4.78097657e-03,\n",
       "       -1.95067618e-02,  5.23147965e-03,  2.29935325e-03, -4.42055687e-02,\n",
       "       -2.77661011e-02, -8.93248303e-04,  2.93602273e-02, -1.30491713e-02,\n",
       "       -2.86240000e-02,  3.86943333e-02, -4.47502993e-02,  1.03194444e-02,\n",
       "        1.80420354e-02, -3.38321924e-02, -1.65100060e-02, -2.39798371e-02,\n",
       "        5.62032312e-02,  1.09891249e-02,  3.16978320e-02, -6.75788820e-02,\n",
       "        6.73736080e-35,  2.48693656e-02, -5.09580933e-02, -2.56595667e-02,\n",
       "        5.80422319e-02,  2.16852576e-02, -3.76572739e-03, -3.83964777e-02,\n",
       "       -1.23907570e-02,  7.05060661e-02,  2.01386008e-02, -1.67445503e-02],\n",
       "      dtype=float32)"
      ]
     },
     "execution_count": 68,
     "metadata": {},
     "output_type": "execute_result"
    }
   ],
   "source": [
    "sentences = [\"I like dogs \",\n",
    "            \"she like cats\",\n",
    "            \"I drive a car\"]\n",
    "results = embd_model.encode(sentences)\n",
    "results[0]"
   ]
  },
  {
   "cell_type": "code",
   "execution_count": 70,
   "id": "d6f3bc75",
   "metadata": {},
   "outputs": [
    {
     "data": {
      "text/plain": [
       "(3, 768)"
      ]
     },
     "execution_count": 70,
     "metadata": {},
     "output_type": "execute_result"
    }
   ],
   "source": [
    "results.shape"
   ]
  },
  {
   "cell_type": "code",
   "execution_count": 71,
   "id": "94ba79a1",
   "metadata": {},
   "outputs": [
    {
     "name": "stdout",
     "output_type": "stream",
     "text": [
      "CPU times: total: 0 ns\n",
      "Wall time: 65 ms\n"
     ]
    }
   ],
   "source": [
    "%%time\n",
    "text_chunks = [chunk[\"sentence_chunk\"] for chunk in chunks_after_filter]"
   ]
  },
  {
   "cell_type": "code",
   "execution_count": 72,
   "id": "0e417c78",
   "metadata": {},
   "outputs": [
    {
     "data": {
      "text/plain": [
       "'Human Nutrition: 2020 Edition by University of Hawai‘i at Mānoa Food Science and Human Nutrition Program is licensed under a Creative Commons Attribution 4.0 International License, except where otherwise noted.'"
      ]
     },
     "execution_count": 72,
     "metadata": {},
     "output_type": "execute_result"
    }
   ],
   "source": [
    "text_chunks[1]"
   ]
  },
  {
   "cell_type": "code",
   "execution_count": 83,
   "id": "642d1625",
   "metadata": {},
   "outputs": [
    {
     "name": "stderr",
     "output_type": "stream",
     "text": [
      "100%|██████████████████████████████████████████████████████████████████████████████| 1809/1809 [10:07<00:00,  2.98it/s]"
     ]
    },
    {
     "name": "stdout",
     "output_type": "stream",
     "text": [
      "CPU times: total: 1h 34min 28s\n",
      "Wall time: 10min 7s\n"
     ]
    },
    {
     "name": "stderr",
     "output_type": "stream",
     "text": [
      "\n"
     ]
    }
   ],
   "source": [
    "%%time\n",
    "for chunk in tqdm(chunks_after_filter):\n",
    "    chunk[\"embedding\"] = embd_model.encode(chunk[\"sentence_chunk\"])"
   ]
  },
  {
   "cell_type": "code",
   "execution_count": 85,
   "id": "af8e0bc4",
   "metadata": {},
   "outputs": [
    {
     "name": "stdout",
     "output_type": "stream",
     "text": [
      "Embedding data has been saved at chunk_embd.csv\n"
     ]
    }
   ],
   "source": [
    "chunk_embd_df = pd.DataFrame(chunks_after_filter)\n",
    "chunk_embd_save_path = \"chunk_embd.csv\"\n",
    "chunk_embd_df.to_csv(chunk_embd_save_path, index=False)\n",
    "print(f\"Embedding data has been saved at {chunk_embd_save_path}\")"
   ]
  },
  {
   "cell_type": "code",
   "execution_count": 86,
   "id": "30a02e08",
   "metadata": {},
   "outputs": [
    {
     "data": {
      "text/html": [
       "<div>\n",
       "<style scoped>\n",
       "    .dataframe tbody tr th:only-of-type {\n",
       "        vertical-align: middle;\n",
       "    }\n",
       "\n",
       "    .dataframe tbody tr th {\n",
       "        vertical-align: top;\n",
       "    }\n",
       "\n",
       "    .dataframe thead th {\n",
       "        text-align: right;\n",
       "    }\n",
       "</style>\n",
       "<table border=\"1\" class=\"dataframe\">\n",
       "  <thead>\n",
       "    <tr style=\"text-align: right;\">\n",
       "      <th></th>\n",
       "      <th>page_number</th>\n",
       "      <th>sentence_chunk</th>\n",
       "      <th>chunk_char_count</th>\n",
       "      <th>chunk_word_count</th>\n",
       "      <th>chunk_token_count</th>\n",
       "      <th>embedding</th>\n",
       "    </tr>\n",
       "  </thead>\n",
       "  <tbody>\n",
       "    <tr>\n",
       "      <th>0</th>\n",
       "      <td>2</td>\n",
       "      <td>Human Nutrition: 2020 Edition UNIVERSITY OF HA...</td>\n",
       "      <td>308</td>\n",
       "      <td>42</td>\n",
       "      <td>77.00</td>\n",
       "      <td>[0.067424275, 0.090228036, -0.0050954954, -0.0...</td>\n",
       "    </tr>\n",
       "    <tr>\n",
       "      <th>1</th>\n",
       "      <td>3</td>\n",
       "      <td>Human Nutrition: 2020 Edition by University of...</td>\n",
       "      <td>210</td>\n",
       "      <td>30</td>\n",
       "      <td>52.50</td>\n",
       "      <td>[0.055215657, 0.059213843, -0.016616788, -0.02...</td>\n",
       "    </tr>\n",
       "    <tr>\n",
       "      <th>2</th>\n",
       "      <td>4</td>\n",
       "      <td>Contents Preface University of Hawai‘i at Māno...</td>\n",
       "      <td>765</td>\n",
       "      <td>113</td>\n",
       "      <td>191.25</td>\n",
       "      <td>[0.027980154, 0.03398135, -0.020642726, 0.0019...</td>\n",
       "    </tr>\n",
       "    <tr>\n",
       "      <th>3</th>\n",
       "      <td>5</td>\n",
       "      <td>Lifestyles and Nutrition University of Hawai‘i...</td>\n",
       "      <td>940</td>\n",
       "      <td>141</td>\n",
       "      <td>235.00</td>\n",
       "      <td>[0.06825667, 0.03812743, -0.008468593, -0.0181...</td>\n",
       "    </tr>\n",
       "    <tr>\n",
       "      <th>4</th>\n",
       "      <td>6</td>\n",
       "      <td>The Cardiovascular System University of Hawai‘...</td>\n",
       "      <td>998</td>\n",
       "      <td>152</td>\n",
       "      <td>249.50</td>\n",
       "      <td>[0.033026442, -0.008497736, 0.009571517, -0.00...</td>\n",
       "    </tr>\n",
       "  </tbody>\n",
       "</table>\n",
       "</div>"
      ],
      "text/plain": [
       "   page_number                                     sentence_chunk  \\\n",
       "0            2  Human Nutrition: 2020 Edition UNIVERSITY OF HA...   \n",
       "1            3  Human Nutrition: 2020 Edition by University of...   \n",
       "2            4  Contents Preface University of Hawai‘i at Māno...   \n",
       "3            5  Lifestyles and Nutrition University of Hawai‘i...   \n",
       "4            6  The Cardiovascular System University of Hawai‘...   \n",
       "\n",
       "   chunk_char_count  chunk_word_count  chunk_token_count  \\\n",
       "0               308                42              77.00   \n",
       "1               210                30              52.50   \n",
       "2               765               113             191.25   \n",
       "3               940               141             235.00   \n",
       "4               998               152             249.50   \n",
       "\n",
       "                                           embedding  \n",
       "0  [0.067424275, 0.090228036, -0.0050954954, -0.0...  \n",
       "1  [0.055215657, 0.059213843, -0.016616788, -0.02...  \n",
       "2  [0.027980154, 0.03398135, -0.020642726, 0.0019...  \n",
       "3  [0.06825667, 0.03812743, -0.008468593, -0.0181...  \n",
       "4  [0.033026442, -0.008497736, 0.009571517, -0.00...  "
      ]
     },
     "execution_count": 86,
     "metadata": {},
     "output_type": "execute_result"
    }
   ],
   "source": [
    "chunk_embd_df.head()"
   ]
  },
  {
   "cell_type": "code",
   "execution_count": 87,
   "id": "4a1aab5b",
   "metadata": {},
   "outputs": [
    {
     "data": {
      "text/html": [
       "<div>\n",
       "<style scoped>\n",
       "    .dataframe tbody tr th:only-of-type {\n",
       "        vertical-align: middle;\n",
       "    }\n",
       "\n",
       "    .dataframe tbody tr th {\n",
       "        vertical-align: top;\n",
       "    }\n",
       "\n",
       "    .dataframe thead th {\n",
       "        text-align: right;\n",
       "    }\n",
       "</style>\n",
       "<table border=\"1\" class=\"dataframe\">\n",
       "  <thead>\n",
       "    <tr style=\"text-align: right;\">\n",
       "      <th></th>\n",
       "      <th>page_number</th>\n",
       "      <th>sentence_chunk</th>\n",
       "      <th>chunk_char_count</th>\n",
       "      <th>chunk_word_count</th>\n",
       "      <th>chunk_token_count</th>\n",
       "      <th>embedding</th>\n",
       "    </tr>\n",
       "  </thead>\n",
       "  <tbody>\n",
       "    <tr>\n",
       "      <th>0</th>\n",
       "      <td>2</td>\n",
       "      <td>Human Nutrition: 2020 Edition UNIVERSITY OF HA...</td>\n",
       "      <td>308</td>\n",
       "      <td>42</td>\n",
       "      <td>77.00</td>\n",
       "      <td>[ 6.74242750e-02  9.02280360e-02 -5.09549538e-...</td>\n",
       "    </tr>\n",
       "    <tr>\n",
       "      <th>1</th>\n",
       "      <td>3</td>\n",
       "      <td>Human Nutrition: 2020 Edition by University of...</td>\n",
       "      <td>210</td>\n",
       "      <td>30</td>\n",
       "      <td>52.50</td>\n",
       "      <td>[ 5.52156568e-02  5.92138432e-02 -1.66167878e-...</td>\n",
       "    </tr>\n",
       "    <tr>\n",
       "      <th>2</th>\n",
       "      <td>4</td>\n",
       "      <td>Contents Preface University of Hawai‘i at Māno...</td>\n",
       "      <td>765</td>\n",
       "      <td>113</td>\n",
       "      <td>191.25</td>\n",
       "      <td>[ 2.79801544e-02  3.39813493e-02 -2.06427258e-...</td>\n",
       "    </tr>\n",
       "    <tr>\n",
       "      <th>3</th>\n",
       "      <td>5</td>\n",
       "      <td>Lifestyles and Nutrition University of Hawai‘i...</td>\n",
       "      <td>940</td>\n",
       "      <td>141</td>\n",
       "      <td>235.00</td>\n",
       "      <td>[ 6.82566687e-02  3.81274298e-02 -8.46859254e-...</td>\n",
       "    </tr>\n",
       "    <tr>\n",
       "      <th>4</th>\n",
       "      <td>6</td>\n",
       "      <td>The Cardiovascular System University of Hawai‘...</td>\n",
       "      <td>998</td>\n",
       "      <td>152</td>\n",
       "      <td>249.50</td>\n",
       "      <td>[ 3.30264419e-02 -8.49773642e-03  9.57151689e-...</td>\n",
       "    </tr>\n",
       "  </tbody>\n",
       "</table>\n",
       "</div>"
      ],
      "text/plain": [
       "   page_number                                     sentence_chunk  \\\n",
       "0            2  Human Nutrition: 2020 Edition UNIVERSITY OF HA...   \n",
       "1            3  Human Nutrition: 2020 Edition by University of...   \n",
       "2            4  Contents Preface University of Hawai‘i at Māno...   \n",
       "3            5  Lifestyles and Nutrition University of Hawai‘i...   \n",
       "4            6  The Cardiovascular System University of Hawai‘...   \n",
       "\n",
       "   chunk_char_count  chunk_word_count  chunk_token_count  \\\n",
       "0               308                42              77.00   \n",
       "1               210                30              52.50   \n",
       "2               765               113             191.25   \n",
       "3               940               141             235.00   \n",
       "4               998               152             249.50   \n",
       "\n",
       "                                           embedding  \n",
       "0  [ 6.74242750e-02  9.02280360e-02 -5.09549538e-...  \n",
       "1  [ 5.52156568e-02  5.92138432e-02 -1.66167878e-...  \n",
       "2  [ 2.79801544e-02  3.39813493e-02 -2.06427258e-...  \n",
       "3  [ 6.82566687e-02  3.81274298e-02 -8.46859254e-...  \n",
       "4  [ 3.30264419e-02 -8.49773642e-03  9.57151689e-...  "
      ]
     },
     "execution_count": 87,
     "metadata": {},
     "output_type": "execute_result"
    }
   ],
   "source": [
    "chunk_embd_df = pd.read_csv(chunk_embd_save_path)\n",
    "chunk_embd_df.head()"
   ]
  },
  {
   "cell_type": "code",
   "execution_count": 89,
   "id": "cac70fa5",
   "metadata": {},
   "outputs": [
    {
     "data": {
      "text/plain": [
       "1809"
      ]
     },
     "execution_count": 89,
     "metadata": {},
     "output_type": "execute_result"
    }
   ],
   "source": [
    "len(chunk_embd_df)  # little dataset (<=100,000) not need to store in vector db"
   ]
  },
  {
   "cell_type": "code",
   "execution_count": 3,
   "id": "8c08d5e2",
   "metadata": {},
   "outputs": [
    {
     "data": {
      "text/html": [
       "<div>\n",
       "<style scoped>\n",
       "    .dataframe tbody tr th:only-of-type {\n",
       "        vertical-align: middle;\n",
       "    }\n",
       "\n",
       "    .dataframe tbody tr th {\n",
       "        vertical-align: top;\n",
       "    }\n",
       "\n",
       "    .dataframe thead th {\n",
       "        text-align: right;\n",
       "    }\n",
       "</style>\n",
       "<table border=\"1\" class=\"dataframe\">\n",
       "  <thead>\n",
       "    <tr style=\"text-align: right;\">\n",
       "      <th></th>\n",
       "      <th>page_number</th>\n",
       "      <th>sentence_chunk</th>\n",
       "      <th>chunk_char_count</th>\n",
       "      <th>chunk_word_count</th>\n",
       "      <th>chunk_token_count</th>\n",
       "      <th>embedding</th>\n",
       "    </tr>\n",
       "  </thead>\n",
       "  <tbody>\n",
       "    <tr>\n",
       "      <th>0</th>\n",
       "      <td>2</td>\n",
       "      <td>Human Nutrition: 2020 Edition UNIVERSITY OF HA...</td>\n",
       "      <td>308</td>\n",
       "      <td>42</td>\n",
       "      <td>77.00</td>\n",
       "      <td>[ 6.74242750e-02  9.02280360e-02 -5.09549538e-...</td>\n",
       "    </tr>\n",
       "    <tr>\n",
       "      <th>1</th>\n",
       "      <td>3</td>\n",
       "      <td>Human Nutrition: 2020 Edition by University of...</td>\n",
       "      <td>210</td>\n",
       "      <td>30</td>\n",
       "      <td>52.50</td>\n",
       "      <td>[ 5.52156568e-02  5.92138432e-02 -1.66167878e-...</td>\n",
       "    </tr>\n",
       "    <tr>\n",
       "      <th>2</th>\n",
       "      <td>4</td>\n",
       "      <td>Contents Preface University of Hawai‘i at Māno...</td>\n",
       "      <td>765</td>\n",
       "      <td>113</td>\n",
       "      <td>191.25</td>\n",
       "      <td>[ 2.79801544e-02  3.39813493e-02 -2.06427258e-...</td>\n",
       "    </tr>\n",
       "    <tr>\n",
       "      <th>3</th>\n",
       "      <td>5</td>\n",
       "      <td>Lifestyles and Nutrition University of Hawai‘i...</td>\n",
       "      <td>940</td>\n",
       "      <td>141</td>\n",
       "      <td>235.00</td>\n",
       "      <td>[ 6.82566687e-02  3.81274298e-02 -8.46859254e-...</td>\n",
       "    </tr>\n",
       "    <tr>\n",
       "      <th>4</th>\n",
       "      <td>6</td>\n",
       "      <td>The Cardiovascular System University of Hawai‘...</td>\n",
       "      <td>998</td>\n",
       "      <td>152</td>\n",
       "      <td>249.50</td>\n",
       "      <td>[ 3.30264419e-02 -8.49773642e-03  9.57151689e-...</td>\n",
       "    </tr>\n",
       "  </tbody>\n",
       "</table>\n",
       "</div>"
      ],
      "text/plain": [
       "   page_number                                     sentence_chunk  \\\n",
       "0            2  Human Nutrition: 2020 Edition UNIVERSITY OF HA...   \n",
       "1            3  Human Nutrition: 2020 Edition by University of...   \n",
       "2            4  Contents Preface University of Hawai‘i at Māno...   \n",
       "3            5  Lifestyles and Nutrition University of Hawai‘i...   \n",
       "4            6  The Cardiovascular System University of Hawai‘...   \n",
       "\n",
       "   chunk_char_count  chunk_word_count  chunk_token_count  \\\n",
       "0               308                42              77.00   \n",
       "1               210                30              52.50   \n",
       "2               765               113             191.25   \n",
       "3               940               141             235.00   \n",
       "4               998               152             249.50   \n",
       "\n",
       "                                           embedding  \n",
       "0  [ 6.74242750e-02  9.02280360e-02 -5.09549538e-...  \n",
       "1  [ 5.52156568e-02  5.92138432e-02 -1.66167878e-...  \n",
       "2  [ 2.79801544e-02  3.39813493e-02 -2.06427258e-...  \n",
       "3  [ 6.82566687e-02  3.81274298e-02 -8.46859254e-...  \n",
       "4  [ 3.30264419e-02 -8.49773642e-03  9.57151689e-...  "
      ]
     },
     "execution_count": 3,
     "metadata": {},
     "output_type": "execute_result"
    }
   ],
   "source": [
    "\"\"\"\n",
    "Retrieval System Building. eg.相似度搜索、语义搜索...\n",
    "\"\"\"\n",
    "#search relevant chunks with query(embeded by same embedding model used for text_chunks)\n",
    "import random\n",
    "import numpy as np\n",
    "import pandas as pd\n",
    "import torch\n",
    "\n",
    "device = \"cuda\" if torch.cuda.is_available() else \"cpu\"\n",
    "\n",
    "chunks_embd_df = pd.read_csv(\"chunk_embd.csv\")\n",
    "# chunks_embd_df[\"embedding\"] = chunks_embd_df[\"embedding\"].apply(lambda x: np.fromstring(x))\n",
    "chunks_embd_df.head(5)"
   ]
  },
  {
   "cell_type": "code",
   "execution_count": 4,
   "id": "d8b3a805",
   "metadata": {},
   "outputs": [
    {
     "data": {
      "text/plain": [
       "768"
      ]
     },
     "execution_count": 4,
     "metadata": {},
     "output_type": "execute_result"
    }
   ],
   "source": [
    "chunks_embd_df[\"embedding\"] = chunks_embd_df[\"embedding\"].apply(lambda x: np.fromstring(x.strip(\"[]\"), sep=\" \"))\n",
    "len(chunks_embd_df[\"embedding\"][0])"
   ]
  },
  {
   "cell_type": "code",
   "execution_count": 131,
   "id": "06e5e673",
   "metadata": {},
   "outputs": [
    {
     "data": {
      "text/plain": [
       "array([2.90005926e-057, 6.00050344e-067, 5.34733781e-038, ...,\n",
       "       1.35653738e-153, 1.42693444e-071, 8.66378237e+140])"
      ]
     },
     "execution_count": 131,
     "metadata": {},
     "output_type": "execute_result"
    }
   ],
   "source": [
    "# chunks_embd_df[\"embedding\"][0]   #pd中存的是str，格式不对，导致后面维度不匹配"
   ]
  },
  {
   "cell_type": "code",
   "execution_count": 5,
   "id": "37ead731",
   "metadata": {},
   "outputs": [],
   "source": [
    "chunks_embd = chunks_embd_df.to_dict(orient=\"records\")"
   ]
  },
  {
   "cell_type": "code",
   "execution_count": 6,
   "id": "4d74deb8",
   "metadata": {
    "scrolled": false
   },
   "outputs": [
    {
     "data": {
      "text/plain": [
       "(1809, 768)"
      ]
     },
     "execution_count": 6,
     "metadata": {},
     "output_type": "execute_result"
    }
   ],
   "source": [
    "embeddings = np.stack(chunks_embd_df[\"embedding\"].to_list(),axis=0)\n",
    "embeddings.shape"
   ]
  },
  {
   "cell_type": "code",
   "execution_count": 7,
   "id": "33531cb8",
   "metadata": {},
   "outputs": [
    {
     "data": {
      "text/plain": [
       "torch.Size([1809, 768])"
      ]
     },
     "execution_count": 7,
     "metadata": {},
     "output_type": "execute_result"
    }
   ],
   "source": [
    "# embeddings转换为torch.tensor\n",
    "embeddings = torch.tensor(embeddings).float()  # 计算相似度时，两个输入类型一致\n",
    "embeddings.shape"
   ]
  },
  {
   "cell_type": "code",
   "execution_count": 8,
   "id": "0eee6f5a",
   "metadata": {},
   "outputs": [
    {
     "name": "stderr",
     "output_type": "stream",
     "text": [
      "E:\\My_Anaconda\\Anaconda\\envs\\LangChain_and_VectorDB\\Lib\\site-packages\\sentence_transformers\\cross_encoder\\CrossEncoder.py:11: TqdmWarning: IProgress not found. Please update jupyter and ipywidgets. See https://ipywidgets.readthedocs.io/en/stable/user_install.html\n",
      "  from tqdm.autonotebook import tqdm, trange\n",
      "E:\\My_Anaconda\\Anaconda\\envs\\LangChain_and_VectorDB\\Lib\\site-packages\\bitsandbytes\\cextension.py:34: UserWarning: The installed version of bitsandbytes was compiled without GPU support. 8-bit optimizers, 8-bit multiplication, and GPU quantization are unavailable.\n",
      "  warn(\"The installed version of bitsandbytes was compiled without GPU support. \"\n"
     ]
    },
    {
     "name": "stdout",
     "output_type": "stream",
     "text": [
      "'NoneType' object has no attribute 'cadam32bit_grad_fp32'\n"
     ]
    },
    {
     "name": "stderr",
     "output_type": "stream",
     "text": [
      "E:\\My_Anaconda\\Anaconda\\envs\\LangChain_and_VectorDB\\Lib\\site-packages\\huggingface_hub\\file_download.py:1132: FutureWarning: `resume_download` is deprecated and will be removed in version 1.0.0. Downloads always resume when possible. If you want to force a new download, use `force_download=True`.\n",
      "  warnings.warn(\n"
     ]
    }
   ],
   "source": [
    "# 为query使用相同的embedding model\n",
    "from sentence_transformers import util, SentenceTransformer\n",
    "\n",
    "query_embedding_model = SentenceTransformer(model_name_or_path=\"all-mpnet-base-v2\",\n",
    "                                     device=device)"
   ]
  },
  {
   "cell_type": "code",
   "execution_count": 9,
   "id": "7816fb62",
   "metadata": {},
   "outputs": [
    {
     "data": {
      "text/plain": [
       "torch.Size([768])"
      ]
     },
     "execution_count": 9,
     "metadata": {},
     "output_type": "execute_result"
    }
   ],
   "source": [
    "\"\"\"\n",
    "build search pipeline\n",
    "    -- 将query转换为embedding\n",
    "    -- 确认相似度度量方法 eg.点积、cos相似度\n",
    "    -- 按序返回relevent chunks\n",
    "\"\"\"\n",
    "# [WAITING] 将query的token与embd model's input token 比较，防止embedding失败\n",
    "query = \"what's nutrients about vegetable?\"\n",
    "query_embedding = query_embedding_model.encode(query,convert_to_tensor=True) # 可能需要加上.to（“cuda”），让运算的两个tensor在同一个设备上\n",
    "query_embedding.shape"
   ]
  },
  {
   "cell_type": "code",
   "execution_count": 10,
   "id": "bfc5c4f3",
   "metadata": {},
   "outputs": [
    {
     "name": "stdout",
     "output_type": "stream",
     "text": [
      "[WAENING] Take 0.002 seconds to search\n"
     ]
    },
    {
     "data": {
      "text/plain": [
       "torch.return_types.topk(\n",
       "values=tensor([[0.5938, 0.5899, 0.5764]]),\n",
       "indices=tensor([[827,  42, 552]]))"
      ]
     },
     "execution_count": 10,
     "metadata": {},
     "output_type": "execute_result"
    }
   ],
   "source": [
    "# compute similarity score(点积：如果数据经过Normalize归一化，长度为1，相当于cos similarity)\n",
    "\n",
    "from time import perf_counter as timer\n",
    "start_time = timer()\n",
    "dot_sim_score = util.dot_score(a=query_embedding, b=embeddings)  # \n",
    "end_time = timer()\n",
    "\n",
    "print(f\"[WAENING] Take {end_time-start_time:.3f} seconds to search\")\n",
    "# top_chunks_retrievaled = torch.topk(dot_sim_score,k=3)\n",
    "# top_chunks_retrievaled\n",
    "# dot_sim_score[0]\n",
    "top_chuns_retrievaled = torch.topk(dot_sim_score,k=3)  #查询行向量biggest value和对应indices\n",
    "top_chuns_retrievaled"
   ]
  },
  {
   "cell_type": "code",
   "execution_count": 12,
   "id": "4ee32ec4",
   "metadata": {},
   "outputs": [
    {
     "name": "stdout",
     "output_type": "stream",
     "text": [
      "torch.float32\n",
      "torch.float32\n"
     ]
    }
   ],
   "source": [
    "from pprint import pprint\n",
    "pprint(query_embedding.dtype)\n",
    "pprint(embeddings.dtype)"
   ]
  },
  {
   "cell_type": "code",
   "execution_count": 13,
   "id": "cb1dfec9",
   "metadata": {},
   "outputs": [
    {
     "data": {
      "text/plain": [
       "{'page_number': 570,\n",
       " 'sentence_chunk': '22.00 10.20 Carrots, cooked 1c. 13.00 5.90 Carrots, raw 1 medium 5.10 2.10 Winter squash, baked 1c. 5.70 1.40 Collards, cooked 1c. 11.60 0.20 Tomato 1 medium 0.55 0.10 Tangerine 1 medium 0.13 0.09 Peas, cooked 1c. 1.20 0.09 Source:2010.USDA National Nutrient Database for Standard Reference, Release 23.US Department of Agriculture, Agricultural Fat-Soluble Vitamins | 529',\n",
       " 'chunk_char_count': 372,\n",
       " 'chunk_word_count': 56,\n",
       " 'chunk_token_count': 93.0,\n",
       " 'embedding': array([-3.96088995e-02, -6.06591143e-02, -1.43779442e-02,  3.16618271e-02,\n",
       "         1.59537047e-02, -4.73678578e-03, -2.89598554e-02,  2.62598880e-02,\n",
       "         3.93274315e-02,  2.61996537e-02,  1.55316293e-02,  2.01863293e-02,\n",
       "         3.77730019e-02,  4.57858741e-02, -3.28798480e-02, -6.75241696e-03,\n",
       "        -2.18497626e-02,  2.71610753e-03, -6.23964146e-03,  2.19664518e-02,\n",
       "        -8.27283692e-03,  1.10167805e-02, -2.17985548e-02,  2.30771918e-02,\n",
       "        -1.16769470e-01,  5.21914512e-02,  5.19804470e-02,  2.40983050e-02,\n",
       "        -2.87071094e-02, -1.01682566e-01, -1.84784140e-02, -3.04139238e-02,\n",
       "        -9.69512668e-03, -4.79306579e-02,  1.75255275e-06, -1.29502602e-02,\n",
       "        -2.69681048e-02,  3.24771032e-02, -3.11572235e-02,  1.10541306e-01,\n",
       "         9.39317420e-03, -1.24964966e-02, -7.12325051e-03, -8.53405707e-03,\n",
       "         7.87460338e-03,  7.22043216e-03,  5.15272394e-02,  4.48640296e-03,\n",
       "        -4.57588769e-02, -1.16416765e-02,  9.42189246e-03,  1.05435783e-02,\n",
       "         8.76131933e-03,  1.99976675e-02,  2.83112340e-02, -7.40463007e-03,\n",
       "        -9.18947440e-03,  6.21434748e-02, -2.24186033e-02,  6.68079332e-02,\n",
       "        -2.66351849e-02,  1.74837857e-02,  4.18070927e-02, -5.23290876e-03,\n",
       "        -1.91232767e-02,  6.70981333e-02, -1.15241846e-02, -4.71595302e-02,\n",
       "        -1.34440232e-03,  7.23837018e-02,  2.14809980e-02,  2.49381643e-02,\n",
       "         1.13351932e-02, -1.37153373e-03, -5.64356148e-02, -9.01159123e-02,\n",
       "        -2.29074769e-02, -1.44285616e-02,  1.44879054e-02, -2.68081948e-02,\n",
       "         1.98634109e-03,  6.19435974e-04, -3.32782534e-03, -9.44325514e-03,\n",
       "         2.01410521e-02,  2.50854380e-02,  4.57345555e-03,  1.50281200e-02,\n",
       "         1.41465329e-02, -6.26437590e-02, -2.91363429e-03, -3.02637815e-02,\n",
       "         5.23162708e-02,  2.85529587e-02, -3.32140885e-02, -5.16165793e-02,\n",
       "         1.63410492e-02, -5.11315577e-02,  3.75686921e-02, -1.69743318e-02,\n",
       "         4.12408933e-02,  5.59900980e-03, -5.89231737e-02, -1.67511855e-04,\n",
       "        -1.06097916e-02,  1.36639653e-02, -7.05631869e-03,  8.27605650e-02,\n",
       "        -2.94818189e-02,  5.48173934e-02,  1.63079444e-02, -4.90593084e-04,\n",
       "        -1.92320868e-02,  5.35579063e-02,  1.00517422e-02, -5.28402720e-03,\n",
       "        -2.34547742e-02, -4.33613323e-02, -3.69226150e-02, -1.54667236e-02,\n",
       "        -1.06209032e-02,  3.30105796e-02,  4.50101541e-03, -1.97983366e-02,\n",
       "        -3.77092436e-02,  6.68294206e-02, -3.48528326e-02, -4.70910668e-02,\n",
       "         3.01349312e-02, -6.51212111e-02, -1.39364144e-02, -8.66441522e-03,\n",
       "         2.75395326e-02,  6.09617273e-04,  2.53784340e-02, -4.66216840e-02,\n",
       "         6.45822436e-02, -6.79692999e-03,  9.52750295e-02, -3.91413085e-02,\n",
       "        -5.91327250e-02,  9.56720114e-03, -1.60798300e-02,  7.35816080e-04,\n",
       "         1.79337207e-02, -2.03480925e-02,  4.09105793e-02, -5.04699275e-02,\n",
       "         1.91480089e-02,  3.97072546e-02, -5.15033565e-02,  2.28906646e-02,\n",
       "         5.47634736e-02,  2.77187563e-02,  4.81214821e-02, -4.27448787e-02,\n",
       "        -3.30421068e-02, -5.38039813e-03,  1.24762682e-02,  5.61813004e-02,\n",
       "         2.15241816e-02, -2.09171996e-02,  2.44781189e-02, -5.03911152e-02,\n",
       "        -1.73464082e-02, -3.68470363e-02, -4.91316281e-02,  1.99381243e-02,\n",
       "        -2.38915347e-03,  1.92486375e-04, -1.01471627e-02,  3.52048576e-02,\n",
       "        -3.90671417e-02, -3.68428119e-02,  8.90504345e-02,  7.74602294e-02,\n",
       "         5.48406616e-02, -2.22785827e-02,  3.08722463e-02, -1.65515731e-03,\n",
       "         9.46087018e-02, -8.08634311e-02, -1.75616443e-02,  5.70792407e-02,\n",
       "        -8.97622257e-02,  1.06243198e-04, -3.98329310e-02, -1.44792795e-02,\n",
       "        -8.72495025e-03, -5.72985485e-02, -3.04175541e-03, -3.26695070e-02,\n",
       "        -4.22904920e-03, -1.02185551e-02, -6.64132833e-03, -1.97884794e-02,\n",
       "         9.36596747e-03, -5.81387989e-02,  1.55948871e-03, -4.69242893e-02,\n",
       "         3.11607160e-02,  6.02421723e-02,  6.19567521e-02, -4.72136773e-02,\n",
       "        -7.35879829e-03, -1.41559821e-02, -1.66342501e-02,  2.58697700e-02,\n",
       "         7.60810748e-02, -2.07811370e-02,  9.10207257e-03, -4.36365530e-02,\n",
       "         2.25962419e-02, -1.21657252e-02,  2.62029674e-02, -6.49878085e-02,\n",
       "        -1.75322685e-03, -1.06088100e-02,  8.09346512e-03, -6.20091222e-02,\n",
       "         1.29738711e-02, -3.21552418e-02,  2.21237224e-02,  3.66072021e-02,\n",
       "         5.34365885e-02,  3.97644229e-02, -1.50726093e-02, -3.41104977e-02,\n",
       "        -1.62494611e-02, -7.33445026e-03,  2.55916249e-02,  4.74806428e-02,\n",
       "         2.70810630e-03,  1.85392145e-02, -2.19383091e-02, -2.65102182e-02,\n",
       "         8.10919702e-02,  4.69763614e-02,  6.87758904e-03, -4.15108763e-02,\n",
       "        -4.85582463e-02, -2.71161217e-02, -2.94662006e-02,  3.08766030e-02,\n",
       "         3.49325873e-03,  4.09585377e-03, -6.70038164e-02, -3.77773754e-02,\n",
       "        -2.46994849e-02,  5.53901382e-02, -1.15028722e-02,  4.71607335e-02,\n",
       "         1.06286304e-02, -1.75489634e-02,  1.92829128e-02,  1.15496693e-02,\n",
       "        -5.13084903e-02, -4.45528962e-02, -3.64771932e-02,  9.92022306e-02,\n",
       "        -8.54607578e-03, -3.95218953e-02, -4.14998550e-03, -5.26580252e-02,\n",
       "         4.33933772e-02, -7.01661557e-02, -2.40496323e-02,  2.46346258e-02,\n",
       "         4.30285791e-03, -2.48672329e-02,  7.05792848e-03,  3.91785204e-02,\n",
       "         1.79740656e-02,  2.46888194e-02, -1.13387527e-02,  2.04694998e-02,\n",
       "         9.26162489e-03, -8.01524371e-02,  1.91075616e-02, -9.38729290e-03,\n",
       "        -8.47957749e-03,  2.91609243e-02,  7.70388916e-03,  2.15329528e-02,\n",
       "         3.43868025e-02,  4.05537430e-03, -3.51325758e-02,  2.56845783e-02,\n",
       "         5.78132942e-02, -8.34872499e-02,  9.66966990e-03,  3.39333490e-02,\n",
       "         1.21062510e-02,  9.58900526e-03,  2.38584224e-02,  4.70690010e-03,\n",
       "         7.13286847e-02,  1.76150743e-02,  7.73801804e-02,  3.97492237e-02,\n",
       "         3.70677887e-03, -1.18758623e-02, -7.34241009e-02, -5.31948172e-03,\n",
       "        -2.70774886e-02,  6.39138594e-02,  1.49235884e-02, -2.26985253e-02,\n",
       "         6.64947135e-03,  8.98190960e-03,  3.51030678e-02,  2.50456203e-02,\n",
       "        -1.44443545e-03,  1.44483587e-02, -5.37805306e-03, -5.28704748e-02,\n",
       "        -4.84177656e-02,  7.49957263e-02,  1.17189027e-02,  2.59739961e-02,\n",
       "         3.12007237e-02, -2.29181964e-02, -3.00453026e-02, -4.00082907e-03,\n",
       "        -1.22225638e-02,  6.75169379e-02, -5.12009487e-02,  1.36099411e-02,\n",
       "        -4.63803299e-02,  7.44856661e-03, -1.76188610e-02, -8.20507705e-02,\n",
       "         3.62769887e-02, -2.28715353e-02,  6.36634976e-02, -8.05480685e-03,\n",
       "        -3.10686138e-02,  2.77209524e-02, -1.74007379e-02, -3.45036276e-02,\n",
       "        -2.34942734e-02,  8.03431729e-04,  6.59398176e-03, -3.83807882e-03,\n",
       "        -1.96243990e-02,  4.12564203e-02,  5.66786230e-02,  1.69631541e-02,\n",
       "         2.62020230e-02, -9.92059708e-03, -2.51032040e-02, -1.55812036e-03,\n",
       "         1.03620337e-02, -3.07663549e-02, -1.14162499e-02, -5.36977500e-02,\n",
       "        -1.88241135e-02, -1.96902715e-02, -4.11918350e-02, -9.65260621e-03,\n",
       "         2.88070720e-02,  4.03096825e-02, -1.23823537e-02, -5.83124626e-03,\n",
       "         3.37351412e-02,  2.15666126e-02, -5.30458055e-02, -2.31001563e-02,\n",
       "         3.50979827e-02,  2.05220282e-02, -2.91428734e-02,  1.69622223e-03,\n",
       "        -3.07403281e-02, -9.79109947e-03,  5.62760644e-02, -3.21009755e-02,\n",
       "         2.01220228e-03,  3.48337041e-03, -4.49585170e-02,  1.10924279e-03,\n",
       "         4.86578699e-03, -2.31314860e-02,  6.16528764e-02, -6.06238423e-03,\n",
       "        -2.68165078e-02, -4.12189811e-02, -3.85046825e-02, -4.75817211e-02,\n",
       "        -3.31726372e-02, -5.41007556e-02, -3.02721243e-02,  5.85705973e-02,\n",
       "        -2.25853249e-02,  2.41335644e-03, -9.60091129e-03,  1.93509683e-02,\n",
       "        -9.54590272e-04, -1.76095276e-03, -5.63895563e-03, -3.78251239e-03,\n",
       "         9.67015326e-03, -5.65475561e-02,  8.36940110e-02,  5.81263117e-02,\n",
       "         2.86601055e-02, -4.40994557e-03, -1.79209113e-02,  3.44241932e-02,\n",
       "        -1.48652485e-02, -3.04956585e-02,  6.49664998e-02, -1.06760077e-02,\n",
       "        -5.78708090e-02, -3.94584313e-02,  8.21987838e-02,  9.33701266e-03,\n",
       "         2.75017750e-02,  3.50125954e-02,  4.83670533e-02,  2.75297835e-02,\n",
       "        -4.73790430e-02,  3.83111909e-02,  3.16978022e-02,  4.20401506e-02,\n",
       "        -1.90935787e-02,  2.52381898e-02,  4.74647656e-02, -1.25942016e-02,\n",
       "        -2.91919354e-02,  2.93699093e-02,  4.44301963e-03, -8.76848958e-03,\n",
       "        -3.25106829e-02, -6.07994311e-02, -6.23048358e-02,  1.61283743e-02,\n",
       "         8.55772123e-02, -3.35335433e-02,  1.00289201e-02, -1.73413884e-02,\n",
       "         4.17016037e-02,  2.46721338e-02,  5.98949976e-02, -1.35648074e-02,\n",
       "         1.32827451e-02, -2.95447744e-02,  8.57706368e-03,  5.77462241e-02,\n",
       "         9.98335890e-03,  4.06376533e-02,  3.67352329e-02,  2.16153581e-02,\n",
       "         1.26842577e-02,  7.59707764e-02,  6.26501255e-03,  1.59375221e-02,\n",
       "        -5.96176134e-03, -4.50125635e-02,  1.06941527e-02, -4.11651842e-02,\n",
       "         2.48416308e-02,  1.02191828e-02,  8.99388548e-03,  1.32718273e-02,\n",
       "        -1.44989025e-02, -1.61308330e-02,  3.64083573e-02,  2.29092352e-02,\n",
       "        -1.35637634e-02, -3.20233107e-02, -3.53702940e-02,  2.13234834e-02,\n",
       "        -1.04591781e-02, -1.96543261e-02,  1.65608097e-02,  3.73104103e-02,\n",
       "        -6.14565797e-03,  2.45858468e-02, -4.98297013e-05,  4.36185561e-02,\n",
       "        -7.99741410e-03, -2.97631267e-02,  2.95111611e-02, -9.14734695e-03,\n",
       "        -1.13810580e-02, -2.27047149e-02, -2.83940285e-02, -2.99403053e-02,\n",
       "        -3.26641253e-03, -1.00586396e-02, -1.48884598e-02, -2.15102881e-02,\n",
       "        -1.66396536e-02, -5.37650753e-03,  1.88318957e-02,  1.04658216e-01,\n",
       "         1.54001508e-02, -6.38051257e-02,  1.28309457e-02,  9.24914423e-03,\n",
       "         1.77358706e-02, -5.24998680e-02,  3.23210321e-02, -2.86513008e-02,\n",
       "         1.60174593e-02,  6.04085624e-02, -9.93699580e-03,  2.53114873e-03,\n",
       "         2.11701915e-02, -3.39850038e-02, -5.53507321e-02,  2.49796864e-02,\n",
       "        -1.52808549e-02,  3.72550637e-02, -9.07091051e-03,  2.55972873e-02,\n",
       "        -4.86498401e-02, -7.87931308e-03, -4.27551754e-03,  1.67954620e-02,\n",
       "         7.21889315e-04,  1.40258402e-03,  8.67072716e-02,  4.50653583e-02,\n",
       "        -1.10202925e-02,  5.87721579e-02, -9.05531831e-03,  1.00064129e-02,\n",
       "        -3.69630307e-02,  4.52792645e-02, -3.01281866e-02, -3.85078415e-02,\n",
       "         5.88267390e-03, -1.78338960e-02,  1.34662846e-02,  7.10451603e-02,\n",
       "        -8.61936659e-02,  2.14809850e-02,  2.43216921e-02, -8.66804179e-03,\n",
       "        -4.67892596e-03, -3.93737219e-02,  1.42173674e-02,  5.48309200e-02,\n",
       "         6.06018119e-02, -2.76261009e-02, -7.83675164e-02, -2.86337808e-02,\n",
       "         4.13885862e-02, -4.70989607e-02,  3.54465470e-02,  7.79598812e-03,\n",
       "        -2.76992321e-02, -5.62456995e-02,  4.67024446e-02, -4.74257824e-33,\n",
       "         1.66038722e-02, -4.84242514e-02,  2.04167403e-02,  4.52665240e-02,\n",
       "         2.70517450e-02,  4.60333340e-02,  1.34026548e-02,  2.63329735e-03,\n",
       "        -5.19420020e-02, -2.39495765e-02, -1.60974674e-02, -4.03443817e-03,\n",
       "         1.98612940e-02, -7.77299628e-02,  4.80246870e-03, -7.50301033e-03,\n",
       "         1.56349950e-02, -4.89681289e-02, -1.89660899e-02, -4.62915972e-02,\n",
       "        -4.85188365e-02, -1.95417814e-02,  6.12506084e-02,  6.30172193e-02,\n",
       "         7.01660514e-02,  2.46502031e-02, -4.00110409e-02, -5.89900604e-03,\n",
       "         8.66576843e-03, -5.25602279e-03,  4.50683907e-02,  8.31268821e-03,\n",
       "         1.96141135e-02,  4.48891670e-02, -1.80748925e-02, -6.57460317e-02,\n",
       "         3.06122354e-03, -2.55765989e-02, -2.15991028e-02, -2.02324837e-02,\n",
       "        -5.21606244e-02, -7.28438934e-03,  1.15112273e-03,  2.94776564e-03,\n",
       "         2.10144799e-02, -2.88414024e-02,  3.85021372e-03, -9.82510950e-03,\n",
       "        -2.22860854e-02,  2.28785798e-02, -3.40515538e-03,  2.10262388e-02,\n",
       "        -1.02948891e-02,  1.01513229e-02,  4.54911999e-02,  6.02290146e-02,\n",
       "         1.79081578e-02,  3.11136828e-03,  4.24124226e-02,  7.92218279e-03,\n",
       "         4.69966307e-02,  2.19392553e-02, -3.78539525e-02,  4.26504239e-02,\n",
       "        -2.58097835e-02, -2.50877682e-02,  3.85277234e-02, -4.63324646e-03,\n",
       "        -2.46338360e-02, -4.28535976e-02, -3.68923321e-02, -4.55005094e-02,\n",
       "        -1.78016014e-02,  1.75204489e-03,  3.37064965e-03, -1.16645107e-02,\n",
       "        -3.94501686e-02,  3.17609049e-02, -1.81250572e-02, -3.48021090e-02,\n",
       "        -2.95390617e-02,  1.51430871e-02,  3.74965593e-02,  1.21350307e-02,\n",
       "         3.66292591e-03,  3.37236896e-02, -1.98376179e-02, -5.49968481e-02,\n",
       "         8.68491679e-02, -4.26668748e-02,  1.83323212e-02, -2.46004164e-02,\n",
       "        -4.86555230e-03,  3.50342430e-02,  2.88379136e-02, -5.59054278e-02,\n",
       "        -5.89125382e-04, -4.01698006e-03, -4.35240678e-02, -4.53490615e-02,\n",
       "        -8.99363402e-03, -1.51037434e-02,  4.90218885e-02,  2.45792582e-03,\n",
       "         8.54751910e-04, -5.07777184e-02, -3.25341262e-02, -1.29727274e-02,\n",
       "        -3.63061354e-02, -4.59641144e-02,  1.09857144e-02, -4.98096794e-02,\n",
       "        -5.19285956e-03,  1.13993417e-02, -7.44576231e-02, -2.61017103e-02,\n",
       "        -2.88285548e-03, -1.03506902e-02, -1.66050717e-03, -1.84688419e-02,\n",
       "        -2.23579220e-02, -1.42587014e-02,  4.62320596e-02, -2.72279717e-02,\n",
       "        -7.20768096e-03, -6.95112497e-02,  3.39235030e-02, -4.30557244e-02,\n",
       "        -2.70047516e-04,  3.03232279e-02,  1.62979569e-02,  1.08843641e-02,\n",
       "         2.35052383e-07,  6.80394098e-02, -1.79331284e-02,  1.97208207e-02,\n",
       "        -7.04888478e-02, -5.03074937e-02, -2.74731428e-03,  6.96929470e-02,\n",
       "        -1.81694403e-02,  2.02407558e-02, -3.30633856e-02,  4.79502641e-02,\n",
       "        -4.97194864e-02,  1.74868444e-03,  6.09232225e-02,  3.29412483e-02,\n",
       "        -2.06772909e-02,  3.68224084e-02,  1.30993472e-02,  5.32166380e-03,\n",
       "        -1.51174003e-02,  2.57844739e-02, -2.86799520e-02,  1.25011243e-02,\n",
       "        -2.81368587e-02, -1.53899034e-02,  3.46448012e-02,  1.49855912e-02,\n",
       "        -5.83243482e-02, -3.87025438e-02, -1.16821867e-03,  4.99609187e-02,\n",
       "        -5.38831614e-02,  3.71329598e-02, -3.38499434e-02, -1.12342192e-02,\n",
       "         1.66421179e-02, -1.07070794e-02, -4.58407588e-02, -2.16613915e-02,\n",
       "        -3.94994300e-03, -5.70641309e-02, -1.26307327e-02, -8.82951543e-03,\n",
       "        -3.31713445e-02, -4.32028063e-02, -1.14164399e-02, -2.23890971e-02,\n",
       "         5.52691668e-02,  6.77687675e-02,  7.92376231e-03, -1.06229577e-02,\n",
       "        -8.39248486e-03,  3.08076553e-02,  6.97671482e-03, -1.13496771e-02,\n",
       "         2.00049323e-03,  2.36088615e-02, -1.07903369e-02,  7.19437748e-02,\n",
       "         2.64692889e-03, -3.06849815e-02, -7.41586536e-02,  1.53107764e-02,\n",
       "         1.46891505e-01,  1.25001976e-03,  7.46734068e-02,  9.34557430e-03,\n",
       "         1.84688759e-34, -3.82311903e-02, -2.34968308e-02,  3.71279456e-02,\n",
       "        -1.41406124e-02, -1.88765079e-02,  6.47778362e-02,  3.42856161e-02,\n",
       "        -2.29217019e-02, -1.32634994e-02, -2.91882772e-02, -4.33677137e-02])}"
      ]
     },
     "execution_count": 13,
     "metadata": {},
     "output_type": "execute_result"
    }
   ],
   "source": [
    "chunks_embd[827]"
   ]
  },
  {
   "cell_type": "code",
   "execution_count": 14,
   "id": "39d7849e",
   "metadata": {},
   "outputs": [],
   "source": [
    "\"\"\"\n",
    "优化retrievaled chunks，\n",
    "输出结构清晰\n",
    "\"\"\"\n",
    "import textwrap\n",
    "\n",
    "def print_wrapped(text, wrap_length=100):\n",
    "    wrapped_text = textwrap.fill(text, wrap_length)\n",
    "    print(wrapped_text)\n"
   ]
  },
  {
   "cell_type": "code",
   "execution_count": 15,
   "id": "e4ac540d",
   "metadata": {},
   "outputs": [
    {
     "name": "stdout",
     "output_type": "stream",
     "text": [
      "Query: what's nutrients about vegetable? \n",
      "\n",
      "Results:\n",
      "Score: 0.5938177704811096\n",
      "Text:\n",
      "22.00 10.20 Carrots, cooked 1c. 13.00 5.90 Carrots, raw 1 medium 5.10 2.10 Winter squash, baked 1c.\n",
      "5.70 1.40 Collards, cooked 1c. 11.60 0.20 Tomato 1 medium 0.55 0.10 Tangerine 1 medium 0.13 0.09\n",
      "Peas, cooked 1c. 1.20 0.09 Source:2010.USDA National Nutrient Database for Standard Reference,\n",
      "Release 23.US Department of Agriculture, Agricultural Fat-Soluble Vitamins | 529\n",
      "Page number: 570\n",
      "\n",
      "\n",
      "\n",
      "Score: 0.5898747444152832\n",
      "Text:\n",
      "Learning Objectives By the end of this chapter, you will be able to: • Describe basic concepts in\n",
      "nutrition • Describe factors that affect your nutritional needs • Describe the importance of\n",
      "research and scientific methods to understanding nutrition What are Nutrients? The foods we eat\n",
      "contain nutrients.Nutrients are substances required by the body to perform its basic\n",
      "functions.Nutrients must be obtained from our diet, since the human body does not synthesize or\n",
      "produce them.Nutrients have one or more of three basic functions: they provide energy, contribute to\n",
      "body structure, and/or regulate chemical processes in the body.These basic functions allow us to\n",
      "detect and respond to environmental surroundings, move, excrete wastes, respire (breathe), grow, and\n",
      "reproduce.There are six classes of nutrients required for the body to function and maintain overall\n",
      "health.These are carbohydrates, lipids, proteins, water, vitamins, and minerals.Foods also contain\n",
      "non-nutrients that may be harmful (such as natural toxins common in plant foods and additives like\n",
      "some dyes and preservatives) or beneficial (such as antioxidants). 4 | Introduction\n",
      "Page number: 45\n",
      "\n",
      "\n",
      "\n",
      "Score: 0.5764094591140747\n",
      "Text:\n",
      "minerals, phytonutrients, and antioxidants.At restaurants be aware that phrases such as “cooked in\n",
      "vegetable oil” might mean hydrogenated vegetable oil, and therefore trans fat. Learning Activities\n",
      "Technology Note: The second edition of the Human Nutrition Open Educational Resource (OER) textbook\n",
      "features interactive learning activities.  These activities are available in the web-based textbook\n",
      "and not available in the downloadable versions (EPUB, Digital PDF, Print_PDF, or Open Document).\n",
      "Learning activities may be used across various mobile devices, however, for the best user experience\n",
      "it is strongly recommended that users complete these activities using a desktop or laptop computer\n",
      "and in Google Chrome.   An interactive or media element has been excluded from this version of the\n",
      "text.You can view it online here: http:/ /pressbooks.oer.hawaii.edu/ humannutrition2/?p=229   344 |\n",
      "Lipids and the Food Industry\n",
      "Page number: 385\n",
      "\n",
      "\n",
      "\n"
     ]
    }
   ],
   "source": [
    "print(f\"Query: {query} \\n\")\n",
    "print(f\"Results:\")\n",
    "for sim_score, idx in zip(top_chuns_retrievaled[0][0],top_chuns_retrievaled[1][0]):\n",
    "    print(f\"Score: {sim_score}\")\n",
    "    print(\"Text:\")\n",
    "    print_wrapped(chunks_embd[idx][\"sentence_chunk\"])\n",
    "    print(f\"Page number: {chunks_embd[idx]['page_number']}\")\n",
    "    print(\"\\n\\n\")\n",
    "# top_chuns_retrievaled[0][0][0]"
   ]
  },
  {
   "cell_type": "code",
   "execution_count": 206,
   "id": "24847254",
   "metadata": {},
   "outputs": [
    {
     "data": {
      "image/png": "[encoded data removed]",
      "text/plain": [
       "<Figure size 2000x1000 with 1 Axes>"
      ]
     },
     "metadata": {},
     "output_type": "display_data"
    }
   ],
   "source": [
    "\"\"\"\n",
    "显示查询到的chunk对应的页面\n",
    "\"\"\"\n",
    "import fitz\n",
    "real_content_start = 41  #正文前的非正文页数\n",
    "pdf_path = \"human-nutrition-text.pdf\"\n",
    "doc = fitz.open(pdf_path)\n",
    "page = doc.load_page(570)\n",
    "\n",
    "page_img = page.get_pixmap(dpi=300)\n",
    "\n",
    "# page_img.save(\"img_save_path.png\")\n",
    "\n",
    "doc.close()\n",
    "img_array = np.frombuffer(page_img.samples_mv,\n",
    "                         dtype = np.uint8).reshape(page_img.h, page_img.w, page_img.n)\n",
    "\n",
    "\n",
    "import matplotlib.pyplot as plt\n",
    "plt.figure(figsize=(20,10))\n",
    "plt.imshow(img_array)\n",
    "plt.title(f\"Query: {query} | Most relevant page: \")\n",
    "plt.axis(\"off\")\n",
    "plt.show()"
   ]
  },
  {
   "cell_type": "code",
   "execution_count": 16,
   "id": "9cd5b84c",
   "metadata": {},
   "outputs": [],
   "source": [
    "\"\"\"\n",
    "计算点积和cos相似度\n",
    "余弦相似度考虑向量的方向和大小，使其适用于向量的长度与其相似度不直接相关的情况。\n",
    "当使用点积时只有向量的大小起作用，方向就不那么重要\n",
    "\"\"\"\n",
    "def similarity(vector1, vector2, mode:str = \"dot_product\"):\n",
    "    if mode == \"dot_product\":\n",
    "        print(vector1)\n",
    "        return util.dot_score(vector1, vector2)\n",
    "    elif mode == \"cosine_similarity\":\n",
    "        dot_product = util.dot_score(vector1, vector2)\n",
    "        norm_vect1 = torch.sqrt(torch.sum(vector1**2))\n",
    "        norm_vect2 = torch.sqrt(torch.sum(vector2**2))\n",
    "        cos_sim = dot_product/(norm_vect1 * norm_vect2)\n",
    "#         return torch.nn.functional.cosine_similarity(vector1,vector2,dim=0) # 注意计算所用维度\n",
    "        return cos_sim"
   ]
  },
  {
   "cell_type": "code",
   "execution_count": 17,
   "id": "2cc8e4c7",
   "metadata": {},
   "outputs": [
    {
     "name": "stdout",
     "output_type": "stream",
     "text": [
      "tensor([1., 1.])\n"
     ]
    },
    {
     "data": {
      "text/plain": [
       "tensor([[2.]])"
      ]
     },
     "execution_count": 17,
     "metadata": {},
     "output_type": "execute_result"
    }
   ],
   "source": [
    "# 测试\n",
    "v1 = torch.tensor([1,1]).float()\n",
    "v2 = torch.tensor([1,1],dtype = torch.float32)\n",
    "similarity(v1,v2,mode='dot_product')"
   ]
  },
  {
   "cell_type": "code",
   "execution_count": 18,
   "id": "810a9e2e",
   "metadata": {},
   "outputs": [],
   "source": [
    "\"\"\"\n",
    "Integrate into Search Pipeline\n",
    "\"\"\"\n",
    "def retrieve_relevant_chunks(query: str,\n",
    "                      embeddings: torch.tensor,\n",
    "                      embdModel: SentenceTransformer = query_embedding_model,\n",
    "                      num_of_retrieval: int = 3,  # methord: str,\n",
    "                      show_time: bool = True):\n",
    "    \n",
    "    \"\"\"\n",
    "    Embed query with model,return top-k scores and indices from embedding chunks\n",
    "    \"\"\"\n",
    "    query_embedding = query_embedding_model.encode(query, convert_to_tensor=True)\n",
    "    \n",
    "    # calculate simliarity\n",
    "    start_time = timer()\n",
    "#     sim_score = similarity(query_embedding, embeddingseddings, mode = methord)[0]\n",
    "    sim_score = util.dot_score(query_embedding, embeddings)[0]\n",
    "    end_time = timer()            \n",
    "    \n",
    "    if show_time:\n",
    "        print(f\"[WARING] | {end_time-start_time:.2f} seconds for {len(embeddings)} embeddings.\")\n",
    "    scores, idx = torch.topk(input=sim_score,\n",
    "                            k=num_of_retrieval)\n",
    "    return scores, idx\n",
    "\n",
    " \n",
    "def show_top_returnChunks(query: str,\n",
    "                          embeddings: torch.tensor,                     \n",
    "                          num_of_retrieval: int = 3,\n",
    "                          show_time: bool = True):\n",
    "    \"\"\"\n",
    "    打印出检索到的top-k chunks\n",
    "    \"\"\"\n",
    "    scores, indices = retrieve_relevant_chunks(query=query,\n",
    "                                              embeddings=embeddings,\n",
    "                                              num_of_retrieval=num_of_retrieval,\n",
    "                                              show_time=show_time)\n",
    "    for sim_score, idx in zip(scores, indices):\n",
    "        print(f\"Score: {sim_score}\")\n",
    "        print(\"Text:\")\n",
    "        print_wrapped(chunks_embd[idx][\"sentence_chunk\"])\n",
    "        print(f\"Page number: {chunks_embd[idx]['page_number']}\")\n",
    "        print(\"\\n\\n\")\n",
    "    "
   ]
  },
  {
   "cell_type": "code",
   "execution_count": 19,
   "id": "389e3253",
   "metadata": {},
   "outputs": [
    {
     "name": "stdout",
     "output_type": "stream",
     "text": [
      "[WARING] | 0.00 seconds for 1809 embeddings.\n",
      "Score: 0.6963629722595215\n",
      "Text:\n",
      "• Change it up a bit and experience the taste and satisfaction of other whole grains such as barley,\n",
      "quinoa, and bulgur. • Eat snacks high in fiber, such as almonds, pistachios, raisins, and air-popped\n",
      "popcorn. Add an artichoke and green peas to your dinner plate more 276 | Carbohydrates and Personal\n",
      "Diet Choices\n",
      "Page number: 317\n",
      "\n",
      "\n",
      "\n",
      "Score: 0.6809899806976318\n",
      "Text:\n",
      "Dietary fiber is categorized as either water-soluble or insoluble. Some examples of soluble fibers\n",
      "are inulin, pectin, and guar gum and they are found in peas, beans, oats, barley, and rye.Cellulose\n",
      "and lignin are insoluble fibers and a few dietary sources of them are whole-grain foods, flax,\n",
      "cauliflower, and avocados.Cellulose is the most abundant fiber in plants, making up the cell walls\n",
      "and providing structure.Soluble fibers are more easily accessible to bacterial enzymes in the large\n",
      "intestine so they can be broken down to a greater extent than insoluble fibers, but even some\n",
      "breakdown of cellulose and other insoluble fibers occurs. The last class of fiber is functional\n",
      "fiber.Functional fibers have been added to foods and have been shown to provide health benefits to\n",
      "humans.Functional fibers may be extracted from plants and purified or synthetically made.An example\n",
      "of a functional fiber is psyllium-seed husk.Scientific studies show that consuming psyllium-seed\n",
      "husk reduces blood-cholesterol levels and this health claim has been approved by the FDA.\n",
      "Page number: 278\n",
      "\n",
      "\n",
      "\n",
      "Score: 0.5565934777259827\n",
      "Text:\n",
      "Humans and animals store glucose energy from starches in the form of the very large molecule,\n",
      "glycogen.It has many branches that allow it to break down quickly when energy is needed by cells in\n",
      "the body.It is predominantly found in liver and muscle tissue in animals. Dietary Fibers Dietary\n",
      "fibers are polysaccharides that are highly branched and cross-linked.Some dietary fibers are pectin,\n",
      "gums, cellulose, hemicellulose, and lignin.Lignin, however, is not composed of carbohydrate\n",
      "units.Humans do not produce the enzymes that can break down dietary fiber; however, bacteria in the\n",
      "large intestine (colon) do.Dietary fibers are very beneficial to our health.The Dietary Guidelines\n",
      "Advisory Committee states that there is enough scientific evidence to support that diets high in\n",
      "fiber reduce the risk for obesity and diabetes, which are primary risk factors for cardiovascular\n",
      "disease.2 2. US Department of Agriculture.\n",
      "Page number: 277\n",
      "\n",
      "\n",
      "\n"
     ]
    }
   ],
   "source": [
    "show_top_returnChunks(query=\"foods high in fiber\",embeddings=embeddings,show_time=True)"
   ]
  },
  {
   "cell_type": "code",
   "execution_count": null,
   "id": "b8efc1e0",
   "metadata": {},
   "outputs": [],
   "source": [
    "\"\"\"\n",
    "导入 LLM.   e.g.hugging-face管道导入\n",
    "通过transformers将hugging-face模型下载到本地\n",
    "    import torch\n",
    "    from transformers import AutoTokenizer, AutoModelForCausalLM\n",
    "    from transformers.utils import is_flash_attn_2_available  #flash_attn2加速推理\n",
    "    from transformers import BitsAndByteCobnfig\n",
    "    \n",
    "    quantization_config = BitsAndByteCobnfig() # 实例化量化配置\n",
    "    model_id = \"   \"\n",
    "    tokenizer = AutoTokenizer.from_pretrained(model_id) # 实例化tokenizer\n",
    "    llm_model = AutoModelForCausalLM.from_pretrained(model_id,\n",
    "                                                   quantization_config) # 实例化模型\n",
    "    llm_model.to(\"cuda\")  # 使用量化配置时，可以放到gpu进行推理运行\n",
    "\n",
    "    llm_model  # 查看model架构\n",
    "    \n",
    "    def cal_model_paramNumber(model: torch.nn.Module):\n",
    "        # 计算模型参数量\n",
    "        return sum([param.numel() for param in model.parameters()])\n",
    "    \n",
    "    def get_model_mem_size(model: torch.nn.Module):\n",
    "        # 计算模型内存占用量\n",
    "        mem_params = sum([param.nelement() * param.element_size() for param in model.parameters()])\n",
    "        mem_buffers = sum([buf.nelement() * buf.element_size() for buf in model.buffers()])\n",
    "        #  /(1024 ** 2)转换为MB\n",
    "        model_mem_bytes = mem_params + mem_buffers\n",
    "        retur model_mem_bytes\n",
    "\n",
    "\"\"\"\n",
    "\"\"\"\n",
    "根据RAM MEMORY选择LLM规模 gpu_memory = torch.cuda.get_device_properties(0).total_memory\n",
    "nvidia-smi\n",
    "\"\"\""
   ]
  },
  {
   "cell_type": "code",
   "execution_count": 20,
   "id": "c82f09a5",
   "metadata": {},
   "outputs": [],
   "source": [
    " \"\"\"\n",
    "导入本地模型QWEN：7B  -- 千问中文指令微调大模型 \n",
    "\"\"\"\n",
    "from langchain_community.llms import Ollama\n",
    "llm = Ollama(model=\"qwen:7b\")"
   ]
  },
  {
   "cell_type": "code",
   "execution_count": 250,
   "id": "6301d2c4",
   "metadata": {},
   "outputs": [
    {
     "data": {
      "text/plain": [
       "'Why did the tomato turn red? Because it saw the salad dressing!'"
      ]
     },
     "execution_count": 250,
     "metadata": {},
     "output_type": "execute_result"
    }
   ],
   "source": [
    "llm.invoke(\"say something funny in 5 words\")"
   ]
  },
  {
   "cell_type": "code",
   "execution_count": 253,
   "id": "613946b6",
   "metadata": {},
   "outputs": [
    {
     "data": {
      "text/plain": [
       "\"Sure, here's a nutrition-themed joke for you:\\n\\nWhy did the potato go to the doctor? \\n\\nBecause it wasn't peeling well!\""
      ]
     },
     "execution_count": 253,
     "metadata": {},
     "output_type": "execute_result"
    }
   ],
   "source": [
    "\"\"\"\n",
    "create Prompt Template\n",
    "\"\"\"\n",
    "from langchain.prompts import ChatPromptTemplate\n",
    "messages = [\n",
    "    (\"system\", \"You are a comedian who tells jokes about {topic}.\"),\n",
    "    (\"human\", \"Tell me {joke_count} jokes.\"),\n",
    "]\n",
    "prompt_template = ChatPromptTemplate.from_messages(messages)\n",
    "prompt = prompt_template.invoke({\"topic\": \"nutrition\", \"joke_count\": 1})\n",
    "result = llm.invoke(prompt)\n",
    "result\n"
   ]
  },
  {
   "cell_type": "code",
   "execution_count": null,
   "id": "2f5c5566",
   "metadata": {},
   "outputs": [],
   "source": [
    "prompt_test = \"\"\"\n",
    "\n",
    "Based on the following contexts:\n",
    "- \n",
    "- \n",
    "- \n",
    "Please answer the following question: who are you?\n",
    "Answer:\n",
    "\"\"\""
   ]
  },
  {
   "cell_type": "code",
   "execution_count": 21,
   "id": "a7f141b4",
   "metadata": {},
   "outputs": [
    {
     "name": "stdout",
     "output_type": "stream",
     "text": [
      "[WARING] | 0.00 seconds for 1809 embeddings.\n",
      "('Based on the following contexts,plaese answer the query and extract data '\n",
      " 'between <source> into a list and put the list in <source list> location '\n",
      " 'finally.\\n'\n",
      " 'Context items:\\n'\n",
      " '- Vitamins Major Functions Water-soluble Thiamin (B1) Coenzyme, energy '\n",
      " 'metabolism assistance Riboflavin (B2 ) Coenzyme, energy metabolism '\n",
      " 'assistance Niacin (B3) Coenzyme, energy metabolism assistance Pantothenic '\n",
      " 'acid (B5) Coenzyme, energy metabolism assistance Pyridoxine (B6) Coenzyme, '\n",
      " 'amino acid synthesis assistance Biotin (B7) Coenzyme, amino acid and fatty '\n",
      " 'acid metabolism Folate (B9) Coenzyme, essential for growth Cobalamin (B12) '\n",
      " 'Coenzyme, red blood cell synthesis C (ascorbic acid) Collagen synthesis, '\n",
      " 'antioxidant Fat-soluble A Vision, reproduction, immune system function D '\n",
      " 'Bone and teeth health maintenance, immune system function E Antioxidant, '\n",
      " 'cell membrane protection K Bone and teeth health maintenance, blood clotting '\n",
      " 'Vitamin deficiencies can cause severe health problems and even death.For '\n",
      " 'example, a deficiency in niacin causes a disease called pellagra, which was '\n",
      " 'common in the early twentieth century in some parts of America.The common '\n",
      " 'signs and symptoms of pellagra are known as the “4D’s—diarrhea, dermatitis, '\n",
      " 'dementia, and death.” Until scientists found out that better diets relieved '\n",
      " 'the signs and symptoms of pellagra, many people with the disease ended up '\n",
      " 'hospitalized in insane asylums awaiting death.Other vitamins were also found '\n",
      " 'to prevent certain disorders and diseases such as scurvy (vitamin C), night '\n",
      " 'blindness vitamin A, and rickets (vitamin D). Table 1.3 Functions of '\n",
      " 'Nutrients Introduction | 11<source> from page: 52 <source>\\n'\n",
      " '- function, others are used to maintain fluid balance, build bone tissue, '\n",
      " 'synthesize hormones, transmit nerve impulses, contract and relax muscles, '\n",
      " 'and protect against harmful free radicals in the body that can cause health '\n",
      " 'problems such as cancer. Vitamins The thirteen vitamins are categorized as '\n",
      " 'either water-soluble or fat-soluble.The water-soluble vitamins are vitamin C '\n",
      " 'and all the B vitamins, which include thiamine, riboflavin, niacin, '\n",
      " 'pantothenic acid, pyridoxine, biotin, folate and cobalamin.The fat-soluble '\n",
      " 'vitamins are A, D, E, and K. Vitamins are required to perform many functions '\n",
      " 'in the body such as making red blood cells, synthesizing bone tissue, and '\n",
      " 'playing a role in normal vision, nervous system function, and immune system '\n",
      " 'function. Table 1.2 Vitamins and Their Major Functions 10 | '\n",
      " 'Introduction<source> from page: 51 <source>\\n'\n",
      " '- One major function is the nitrogen transfer between amino acids which '\n",
      " 'plays a role in amino-acid synthesis and 574 | Water-Soluble '\n",
      " 'Vitamins<source> from page: 615 <source>\\n'\n",
      " 'Query:tell me some functions about vitamin\\n'\n",
      " 'Answer:\\n'\n",
      " 'Source:<source list>')\n",
      "'---------------'\n",
      "('- Vitamins Major Functions Water-soluble Thiamin (B1) Coenzyme, energy '\n",
      " 'metabolism assistance Riboflavin (B2 ) Coenzyme, energy metabolism '\n",
      " 'assistance Niacin (B3) Coenzyme, energy metabolism assistance Pantothenic '\n",
      " 'acid (B5) Coenzyme, energy metabolism assistance Pyridoxine (B6) Coenzyme, '\n",
      " 'amino acid synthesis assistance Biotin (B7) Coenzyme, amino acid and fatty '\n",
      " 'acid metabolism Folate (B9) Coenzyme, essential for growth Cobalamin (B12) '\n",
      " 'Coenzyme, red blood cell synthesis C (ascorbic acid) Collagen synthesis, '\n",
      " 'antioxidant Fat-soluble A Vision, reproduction, immune system function D '\n",
      " 'Bone and teeth health maintenance, immune system function E Antioxidant, '\n",
      " 'cell membrane protection K Bone and teeth health maintenance, blood clotting '\n",
      " 'Vitamin deficiencies can cause severe health problems and even death.For '\n",
      " 'example, a deficiency in niacin causes a disease called pellagra, which was '\n",
      " 'common in the early twentieth century in some parts of America.The common '\n",
      " 'signs and symptoms of pellagra are known as the “4D’s—diarrhea, dermatitis, '\n",
      " 'dementia, and death.” Until scientists found out that better diets relieved '\n",
      " 'the signs and symptoms of pellagra, many people with the disease ended up '\n",
      " 'hospitalized in insane asylums awaiting death.Other vitamins were also found '\n",
      " 'to prevent certain disorders and diseases such as scurvy (vitamin C), night '\n",
      " 'blindness vitamin A, and rickets (vitamin D). Table 1.3 Functions of '\n",
      " 'Nutrients Introduction | 11<source> from page: 52 <source>\\n'\n",
      " '- function, others are used to maintain fluid balance, build bone tissue, '\n",
      " 'synthesize hormones, transmit nerve impulses, contract and relax muscles, '\n",
      " 'and protect against harmful free radicals in the body that can cause health '\n",
      " 'problems such as cancer. Vitamins The thirteen vitamins are categorized as '\n",
      " 'either water-soluble or fat-soluble.The water-soluble vitamins are vitamin C '\n",
      " 'and all the B vitamins, which include thiamine, riboflavin, niacin, '\n",
      " 'pantothenic acid, pyridoxine, biotin, folate and cobalamin.The fat-soluble '\n",
      " 'vitamins are A, D, E, and K. Vitamins are required to perform many functions '\n",
      " 'in the body such as making red blood cells, synthesizing bone tissue, and '\n",
      " 'playing a role in normal vision, nervous system function, and immune system '\n",
      " 'function. Table 1.2 Vitamins and Their Major Functions 10 | '\n",
      " 'Introduction<source> from page: 51 <source>\\n'\n",
      " '- One major function is the nitrogen transfer between amino acids which '\n",
      " 'plays a role in amino-acid synthesis and 574 | Water-Soluble '\n",
      " 'Vitamins<source> from page: 615 <source>')\n"
     ]
    }
   ],
   "source": [
    "\"\"\"\n",
    "Augument Prompt by adding context which from searched chunks \n",
    "\"\"\"\n",
    "def prompt_format(query: str,\n",
    "                 context_items: list[dict]) -> (str,str):\n",
    "    context = \"- \" + \"\\n- \".join([(item[\"sentence_chunk\"] + \"<source> from page: \" + str(item[\"page_number\"]) + \" <source>\") for item in context_items])\n",
    "    custom_prompt = \"\"\"Based on the following contexts,plaese answer the query and extract data between <source> into a list and put the list in <source list> location finally.\n",
    "Context items:\n",
    "{context}\n",
    "Query:{query}\n",
    "Answer:\n",
    "Source:<source list>\n",
    "    \"\"\"\n",
    "    prompt = custom_prompt.format(context = context,\n",
    "                                  query = query).strip()\n",
    "    return prompt,context\n",
    "query = \"tell me some functions about vitamin\"\n",
    "scores, indices = retrieve_relevant_chunks(query=query,\n",
    "                                          embeddings=embeddings)\n",
    "context_items = [chunks_embd[idx] for idx in indices]\n",
    "\n",
    "prompt, reference = prompt_format(query=query,\n",
    "              context_items=context_items)\n",
    "pprint(prompt)\n",
    "pprint(\"---------------\")\n",
    "pprint(reference)"
   ]
  },
  {
   "cell_type": "code",
   "execution_count": 22,
   "id": "8b968f1b",
   "metadata": {},
   "outputs": [],
   "source": [
    "response = llm.invoke(prompt)"
   ]
  },
  {
   "cell_type": "code",
   "execution_count": 23,
   "id": "dd8e0059",
   "metadata": {},
   "outputs": [
    {
     "name": "stdout",
     "output_type": "stream",
     "text": [
      "('Here are some major functions of vitamins:\\n'\n",
      " '\\n'\n",
      " '1. **Nitrogen Transfer** - Vitamins like thiamine (B1) assist in the '\n",
      " 'transfer of nitrogen between amino acids, which is crucial for amino acid '\n",
      " 'synthesis.\\n'\n",
      " '\\n'\n",
      " '2. **Red Blood Cell Production** - Vitamin B12 (coenzyme B12) and folate are '\n",
      " 'vital for the production of red blood cells, which transport oxygen '\n",
      " 'throughout the body.\\n'\n",
      " '\\n'\n",
      " '3. **Synthesis of Bone Tissue** - Vitamin D (cholecalciferol) is crucial for '\n",
      " 'bone tissue synthesis by promoting calcium absorption in bones.\\n'\n",
      " '\\n'\n",
      " '4. **Vision Support** - Vitamin A (retinol) plays a role in maintaining '\n",
      " 'normal vision by supporting the production of visual pigments.\\n'\n",
      " '\\n'\n",
      " '5. **Neurological Function** - Many vitamins, particularly B-complex '\n",
      " 'vitamins (B1-B6), are essential for proper functioning of the nervous '\n",
      " 'system.\\n'\n",
      " '\\n'\n",
      " 'In summary, vitamins play critical roles in various bodily functions, '\n",
      " 'including amino acid synthesis, red blood cell production, bone health '\n",
      " 'maintenance, vision support, neurological function, and protection against '\n",
      " 'oxidative stress.')\n"
     ]
    }
   ],
   "source": [
    "pprint(response)"
   ]
  },
  {
   "cell_type": "code",
   "execution_count": 26,
   "id": "5eceb96c",
   "metadata": {},
   "outputs": [
    {
     "name": "stderr",
     "output_type": "stream",
     "text": [
      "Failed to determine 'entailment' label id from the label2id mapping in the model config. Setting to -1. Define a descriptive label2id mapping in the model config to ensure correct outputs.\n",
      "E:\\My_Anaconda\\Anaconda\\envs\\LangChain_and_VectorDB\\Lib\\site-packages\\huggingface_hub\\file_download.py:157: UserWarning: `huggingface_hub` cache-system uses symlinks by default to efficiently store duplicated files but your machine does not support them in C:\\Users\\20931\\.cache\\huggingface\\hub\\models--bert-base-multilingual-cased. Caching files will still work but in a degraded version that might require more space on your disk. This warning can be disabled by setting the `HF_HUB_DISABLE_SYMLINKS_WARNING` environment variable. For more details, see https://huggingface.co/docs/huggingface_hub/how-to-cache#limitations.\n",
      "To support symlinks on Windows, you either need to activate Developer Mode or to run Python as an administrator. In order to see activate developer mode, see this article: https://docs.microsoft.com/en-us/windows/apps/get-started/enable-your-device-for-development\n",
      "  warnings.warn(message)\n",
      "E:\\My_Anaconda\\Anaconda\\envs\\LangChain_and_VectorDB\\Lib\\site-packages\\huggingface_hub\\file_download.py:1132: FutureWarning: `resume_download` is deprecated and will be removed in version 1.0.0. Downloads always resume when possible. If you want to force a new download, use `force_download=True`.\n",
      "  warnings.warn(\n"
     ]
    },
    {
     "name": "stdout",
     "output_type": "stream",
     "text": [
      "{'BLEU': 2.70442818343797, 'ROUGE-1': 0.379110251450677, 'BERT P': 0.6720286011695862, 'BERT R': 0.6390788555145264, 'BERT F1': 0.6551397442817688, 'Perplexity': 9.123483657836914, 'Diversity': 0.9395973154362416, 'Racial Bias': 0.4926985502243042}\n"
     ]
    }
   ],
   "source": [
    "from rag_evaluator import RAGEvaluator\n",
    "\n",
    "rag_evaluator = RAGEvaluator()\n",
    "\n",
    "question = query\n",
    "response = response\n",
    "reference = reference\n",
    "\n",
    "metrics = rag_evaluator.evaluate_all(question, response, reference)\n",
    "\n",
    "print(metrics)"
   ]
  },
  {
   "cell_type": "code",
   "execution_count": 27,
   "id": "4ab5208d",
   "metadata": {},
   "outputs": [],
   "source": [
    "rag_eval_res = {}\n",
    "rag_eval_res[\"query\"] = query\n",
    "rag_eval_res[\"reference\"] = reference\n",
    "rag_eval_res[\"eval_score\"] = metrics"
   ]
  },
  {
   "cell_type": "code",
   "execution_count": 28,
   "id": "6a9408a7",
   "metadata": {},
   "outputs": [
    {
     "name": "stdout",
     "output_type": "stream",
     "text": [
      "{'eval_score': {'BERT F1': 0.6551397442817688,\n",
      "                'BERT P': 0.6720286011695862,\n",
      "                'BERT R': 0.6390788555145264,\n",
      "                'BLEU': 2.70442818343797,\n",
      "                'Diversity': 0.9395973154362416,\n",
      "                'Perplexity': 9.123483657836914,\n",
      "                'ROUGE-1': 0.379110251450677,\n",
      "                'Racial Bias': 0.4926985502243042},\n",
      " 'query': 'tell me some functions about vitamin',\n",
      " 'reference': '- Vitamins Major Functions Water-soluble Thiamin (B1) Coenzyme, '\n",
      "              'energy metabolism assistance Riboflavin (B2 ) Coenzyme, energy '\n",
      "              'metabolism assistance Niacin (B3) Coenzyme, energy metabolism '\n",
      "              'assistance Pantothenic acid (B5) Coenzyme, energy metabolism '\n",
      "              'assistance Pyridoxine (B6) Coenzyme, amino acid synthesis '\n",
      "              'assistance Biotin (B7) Coenzyme, amino acid and fatty acid '\n",
      "              'metabolism Folate (B9) Coenzyme, essential for growth Cobalamin '\n",
      "              '(B12) Coenzyme, red blood cell synthesis C (ascorbic acid) '\n",
      "              'Collagen synthesis, antioxidant Fat-soluble A Vision, '\n",
      "              'reproduction, immune system function D Bone and teeth health '\n",
      "              'maintenance, immune system function E Antioxidant, cell '\n",
      "              'membrane protection K Bone and teeth health maintenance, blood '\n",
      "              'clotting Vitamin deficiencies can cause severe health problems '\n",
      "              'and even death.For example, a deficiency in niacin causes a '\n",
      "              'disease called pellagra, which was common in the early '\n",
      "              'twentieth century in some parts of America.The common signs and '\n",
      "              'symptoms of pellagra are known as the “4D’s—diarrhea, '\n",
      "              'dermatitis, dementia, and death.” Until scientists found out '\n",
      "              'that better diets relieved the signs and symptoms of pellagra, '\n",
      "              'many people with the disease ended up hospitalized in insane '\n",
      "              'asylums awaiting death.Other vitamins were also found to '\n",
      "              'prevent certain disorders and diseases such as scurvy (vitamin '\n",
      "              'C), night blindness vitamin A, and rickets (vitamin D). Table '\n",
      "              '1.3 Functions of Nutrients Introduction | 11<source> from page: '\n",
      "              '52 <source>\\n'\n",
      "              '- function, others are used to maintain fluid balance, build '\n",
      "              'bone tissue, synthesize hormones, transmit nerve impulses, '\n",
      "              'contract and relax muscles, and protect against harmful free '\n",
      "              'radicals in the body that can cause health problems such as '\n",
      "              'cancer. Vitamins The thirteen vitamins are categorized as '\n",
      "              'either water-soluble or fat-soluble.The water-soluble vitamins '\n",
      "              'are vitamin C and all the B vitamins, which include thiamine, '\n",
      "              'riboflavin, niacin, pantothenic acid, pyridoxine, biotin, '\n",
      "              'folate and cobalamin.The fat-soluble vitamins are A, D, E, and '\n",
      "              'K. Vitamins are required to perform many functions in the body '\n",
      "              'such as making red blood cells, synthesizing bone tissue, and '\n",
      "              'playing a role in normal vision, nervous system function, and '\n",
      "              'immune system function. Table 1.2 Vitamins and Their Major '\n",
      "              'Functions 10 | Introduction<source> from page: 51 <source>\\n'\n",
      "              '- One major function is the nitrogen transfer between amino '\n",
      "              'acids which plays a role in amino-acid synthesis and 574 | '\n",
      "              'Water-Soluble Vitamins<source> from page: 615 <source>'}\n"
     ]
    }
   ],
   "source": [
    "pprint(rag_eval_res)"
   ]
  },
  {
   "cell_type": "code",
   "execution_count": null,
   "id": "9d5044cf",
   "metadata": {},
   "outputs": [],
   "source": []
  }
 ],
 "metadata": {
  "kernelspec": {
   "display_name": "Python [conda env:LangChain_and_VectorDB]",
   "language": "python",
   "name": "conda-env-LangChain_and_VectorDB-py"
  },
  "language_info": {
   "codemirror_mode": {
    "name": "ipython",
    "version": 3
   },
   "file_extension": ".py",
   "mimetype": "text/x-python",
   "name": "python",
   "nbconvert_exporter": "python",
   "pygments_lexer": "ipython3",
   "version": "3.11.9"
  }
 },
 "nbformat": 4,
 "nbformat_minor": 5
}
